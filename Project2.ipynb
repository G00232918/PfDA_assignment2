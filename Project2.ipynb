{
 "cells": [
  {
   "cell_type": "markdown",
   "id": "b60d5498",
   "metadata": {},
   "source": [
    "# Data analysis of the Wisconsin Breast Cancer Original Dataset"
   ]
  },
  {
   "cell_type": "markdown",
   "id": "c64d3514",
   "metadata": {
    "toc": true
   },
   "source": [
    "<h1>Table of Contents<span class=\"tocSkip\"></span></h1>\n",
    "<div class=\"toc\"><ul class=\"toc-item\"><li><span><a href=\"#Data-analysis-of-the-Wisconsin-Breast-Cancer-Original-Dataset\" data-toc-modified-id=\"Data-analysis-of-the-Wisconsin-Breast-Cancer-Original-Dataset-1\">Data analysis of the Wisconsin Breast Cancer Original Dataset</a></span><ul class=\"toc-item\"><li><span><a href=\"#1.-Overview-and-Background\" data-toc-modified-id=\"1.-Overview-and-Background-1.1\">1. Overview and Background</a></span></li><li><span><a href=\"#2.-Literature-review-on-classifiers\" data-toc-modified-id=\"2.-Literature-review-on-classifiers-1.2\">2. Literature review on classifiers</a></span></li><li><span><a href=\"#2.1-XGBoost\" data-toc-modified-id=\"2.1-XGBoost-1.3\">2.1 XGBoost</a></span></li><li><span><a href=\"#2.2-Random-Forest\" data-toc-modified-id=\"2.2-Random-Forest-1.4\">2.2 Random Forest</a></span><ul class=\"toc-item\"><li><ul class=\"toc-item\"><li><span><a href=\"#The-following-diagram-explains-how-Random-Forest-works--\" data-toc-modified-id=\"The-following-diagram-explains-how-Random-Forest-works---1.4.0.1\">The following diagram explains how Random Forest works -</a></span></li></ul></li></ul></li><li><span><a href=\"#2.3-Study-conclusion\" data-toc-modified-id=\"2.3-Study-conclusion-1.5\">2.3 Study conclusion</a></span></li><li><span><a href=\"#2.4-K-nearest-Neighbours-Algorithm-(KNN)\" data-toc-modified-id=\"2.4-K-nearest-Neighbours-Algorithm-(KNN)-1.6\">2.4 K-nearest Neighbours Algorithm (KNN)</a></span><ul class=\"toc-item\"><li><span><a href=\"#2.4.1-Elbow-method\" data-toc-modified-id=\"2.4.1-Elbow-method-1.6.1\">2.4.1 Elbow method</a></span></li><li><span><a href=\"#2.4.2-Lazy-Learners-vs-Eager-Learners\" data-toc-modified-id=\"2.4.2-Lazy-Learners-vs-Eager-Learners-1.6.2\">2.4.2 Lazy Learners vs Eager Learners</a></span></li></ul></li><li><span><a href=\"#2.5-Naive-Bayes\" data-toc-modified-id=\"2.5-Naive-Bayes-1.7\">2.5 Naive Bayes</a></span></li><li><span><a href=\"#3.-Statistical-Analysis\" data-toc-modified-id=\"3.-Statistical-Analysis-1.8\">3. Statistical Analysis</a></span></li></ul></li><li><span><a href=\"#4.-Classifiers-to-be-applied\" data-toc-modified-id=\"4.-Classifiers-to-be-applied-2\">4. Classifiers to be applied</a></span><ul class=\"toc-item\"><li><span><a href=\"#4.1.-Train-the-classifiers\" data-toc-modified-id=\"4.1.-Train-the-classifiers-2.1\">4.1. Train the classifiers</a></span></li><li><span><a href=\"#4.2-Random-forest\" data-toc-modified-id=\"4.2-Random-forest-2.2\">4.2 Random forest</a></span></li><li><span><a href=\"#4.3-Decision-Tree\" data-toc-modified-id=\"4.3-Decision-Tree-2.3\">4.3 Decision Tree</a></span></li><li><span><a href=\"#4.4-KNN\" data-toc-modified-id=\"4.4-KNN-2.4\">4.4 KNN</a></span></li><li><span><a href=\"#4.5-Naive-Bayes\" data-toc-modified-id=\"4.5-Naive-Bayes-2.5\">4.5 Naive Bayes</a></span></li><li><span><a href=\"#5.-Comparing-results-of-classifiers\" data-toc-modified-id=\"5.-Comparing-results-of-classifiers-2.6\">5. Comparing results of classifiers</a></span><ul class=\"toc-item\"><li><span><a href=\"#5.1-Comparing-visually\" data-toc-modified-id=\"5.1-Comparing-visually-2.6.1\">5.1 Comparing visually</a></span></li><li><span><a href=\"#5.2-Comparing-Results\" data-toc-modified-id=\"5.2-Comparing-Results-2.6.2\">5.2 Comparing Results</a></span></li></ul></li></ul></li></ul></div>"
   ]
  },
  {
   "cell_type": "markdown",
   "id": "52eedb9e",
   "metadata": {},
   "source": [
    "## 1. Overview and Background"
   ]
  },
  {
   "cell_type": "markdown",
   "id": "d64e607d",
   "metadata": {},
   "source": [
    "The following analysis is of the Wisconsin Cancer Original Dataset. In the dataset there is 9 attributes that are used to be classfied in Diagnosis column which are beneign or malignent. In the context of this dataset beniegn is where the tumour will have no harmful effect on patient and the malignent means there is harmful.\n",
    "\n",
    "According the description of the dataset is from different timings and can be separated into the following groups:\n",
    "- Group 1: 367 instances (January 1989)\n",
    "- Group 2:  70 instances (October 1989)\n",
    "- Group 3:  31 instances (February 1990)\n",
    "- Group 4:  17 instances (April 1990)\n",
    "- Group 5:  48 instances (August 1990)\n",
    "- Group 6:  49 instances (Updated January 1991)\n",
    "- Group 7:  31 instances (June 1991)\n",
    "- Group 8:  86 instances (November 1991)\n",
    "- Total:   699 points (as of the donated datbase on 15 July 1992)\n",
    "\n",
    "\n",
    "The attributes that contribute to the classifiers mentioning in the opening lines are the following and are scored in the domain of 1-10:\n",
    "\n",
    "Attribute                     Domain\n",
    "1. Sample code number            id number\n",
    "2. Clump Thickness               1 - 10\n",
    "3. Uniformity of Cell Size       1 - 10\n",
    "4. Uniformity of Cell Shape      1 - 10\n",
    "5. Marginal Adhesion             1 - 10\n",
    "6. Single Epithelial Cell Size   1 - 10\n",
    "7. Bare Nuclei                   1 - 10\n",
    "8. Bland Chromatin               1 - 10\n",
    "9. Normal Nucleoli               1 - 10\n",
    "10. Mitoses                       1 - 10\n",
    "11. Class:                        (2 for benign, 4 for malignent)\n",
    "\n",
    "This is the context of the dataset that will be reviewed and analysed in the project."
   ]
  },
  {
   "cell_type": "code",
   "execution_count": 3,
   "id": "0a8e30e9",
   "metadata": {},
   "outputs": [],
   "source": [
    "# imports to be used\n",
    "\n",
    "import numpy as np\n",
    "import pandas as pd\n",
    "import matplotlib.pyplot as plt\n",
    "import seaborn as sns"
   ]
  },
  {
   "cell_type": "code",
   "execution_count": 4,
   "id": "0f314a96",
   "metadata": {},
   "outputs": [],
   "source": [
    "# load in the dataset\n",
    "# headers in the excel are as follows \n",
    "# id,\"clump_thickness\",\"size_uniformity\",\"shape_uniformity\",\"marginal_adhesion\",\"epithelial_size\",\n",
    "#\"bare_nucleoli\",\"bland_chromatin\",\"normal_nucleoli\",\"mitoses\",\"class\"\n",
    "\n",
    "# Set the headers in shorter version\n",
    "# remove the the longer format with header=None\n",
    "headers = [\"ID\",\"CT\",\"UCSize\",\"UCShape\",\"MA\",\"SECSize\",\"BN\",\"BC\",\"NN\",\"Mitoses\",\"Diagnosis\"]\n",
    "data = pd.read_csv('data\\Wisconsin_breast_cancer_data.csv',    \n",
    "         header=None, index_col=['ID'], names = headers)"
   ]
  },
  {
   "cell_type": "code",
   "execution_count": 5,
   "id": "5b82181f",
   "metadata": {},
   "outputs": [],
   "source": [
    "# change the values for diagnosis\n",
    "def diagnosis_value(Diagnosis):\n",
    "    if Diagnosis == 4:\n",
    "        return 1\n",
    "    else:\n",
    "        return 0\n",
    "\n",
    "data['Diagnosis'] = data['Diagnosis'].apply(diagnosis_value)"
   ]
  },
  {
   "cell_type": "code",
   "execution_count": 6,
   "id": "519fe5a1",
   "metadata": {},
   "outputs": [
    {
     "data": {
      "text/plain": [
       "CT            int64\n",
       "UCSize        int64\n",
       "UCShape       int64\n",
       "MA            int64\n",
       "SECSize       int64\n",
       "BN           object\n",
       "BC            int64\n",
       "NN            int64\n",
       "Mitoses       int64\n",
       "Diagnosis     int64\n",
       "dtype: object"
      ]
     },
     "execution_count": 6,
     "metadata": {},
     "output_type": "execute_result"
    }
   ],
   "source": [
    "data.dtypes"
   ]
  },
  {
   "cell_type": "code",
   "execution_count": 7,
   "id": "4fa63ae9",
   "metadata": {},
   "outputs": [],
   "source": [
    "# Bare Nuclei field should be an integer field. According to the dtypes command \n",
    "# it is an object so I am going to change\n",
    "# incase there is any issues later on in the data analysis\n",
    "data['BN'] = pd.to_numeric(data['BN'], errors='coerce')"
   ]
  },
  {
   "cell_type": "code",
   "execution_count": 8,
   "id": "e267c5dc",
   "metadata": {},
   "outputs": [
    {
     "data": {
      "text/plain": [
       "(699, 10)"
      ]
     },
     "execution_count": 8,
     "metadata": {},
     "output_type": "execute_result"
    }
   ],
   "source": [
    "# View the shape of the dataset\n",
    "data.shape"
   ]
  },
  {
   "cell_type": "code",
   "execution_count": 9,
   "id": "00fb69f1",
   "metadata": {},
   "outputs": [],
   "source": [
    "# remove rows with null values\n",
    "data = data[data['BN'].notna()]"
   ]
  },
  {
   "cell_type": "code",
   "execution_count": 10,
   "id": "4516847f",
   "metadata": {},
   "outputs": [
    {
     "name": "stdout",
     "output_type": "stream",
     "text": [
      "\tCT: 0\n",
      "\tUCSize: 0\n",
      "\tUCShape: 0\n",
      "\tMA: 0\n",
      "\tSECSize: 0\n",
      "\tBN: 0\n",
      "\tBC: 0\n",
      "\tNN: 0\n",
      "\tMitoses: 0\n",
      "\tDiagnosis: 0\n"
     ]
    }
   ],
   "source": [
    "# check is there any nan values after removing rows\n",
    "for col in data.columns:\n",
    "    print('\\t%s: %d' % (col,data[col].isna().sum()))"
   ]
  },
  {
   "cell_type": "code",
   "execution_count": 11,
   "id": "3f914b0f",
   "metadata": {},
   "outputs": [
    {
     "data": {
      "text/html": [
       "<div>\n",
       "<style scoped>\n",
       "    .dataframe tbody tr th:only-of-type {\n",
       "        vertical-align: middle;\n",
       "    }\n",
       "\n",
       "    .dataframe tbody tr th {\n",
       "        vertical-align: top;\n",
       "    }\n",
       "\n",
       "    .dataframe thead th {\n",
       "        text-align: right;\n",
       "    }\n",
       "</style>\n",
       "<table border=\"1\" class=\"dataframe\">\n",
       "  <thead>\n",
       "    <tr style=\"text-align: right;\">\n",
       "      <th></th>\n",
       "      <th>CT</th>\n",
       "      <th>UCSize</th>\n",
       "      <th>UCShape</th>\n",
       "      <th>MA</th>\n",
       "      <th>SECSize</th>\n",
       "      <th>BN</th>\n",
       "      <th>BC</th>\n",
       "      <th>NN</th>\n",
       "      <th>Mitoses</th>\n",
       "      <th>Diagnosis</th>\n",
       "    </tr>\n",
       "    <tr>\n",
       "      <th>ID</th>\n",
       "      <th></th>\n",
       "      <th></th>\n",
       "      <th></th>\n",
       "      <th></th>\n",
       "      <th></th>\n",
       "      <th></th>\n",
       "      <th></th>\n",
       "      <th></th>\n",
       "      <th></th>\n",
       "      <th></th>\n",
       "    </tr>\n",
       "  </thead>\n",
       "  <tbody>\n",
       "    <tr>\n",
       "      <th>1000025</th>\n",
       "      <td>5</td>\n",
       "      <td>1</td>\n",
       "      <td>1</td>\n",
       "      <td>1</td>\n",
       "      <td>2</td>\n",
       "      <td>1.0</td>\n",
       "      <td>3</td>\n",
       "      <td>1</td>\n",
       "      <td>1</td>\n",
       "      <td>0</td>\n",
       "    </tr>\n",
       "    <tr>\n",
       "      <th>1002945</th>\n",
       "      <td>5</td>\n",
       "      <td>4</td>\n",
       "      <td>4</td>\n",
       "      <td>5</td>\n",
       "      <td>7</td>\n",
       "      <td>10.0</td>\n",
       "      <td>3</td>\n",
       "      <td>2</td>\n",
       "      <td>1</td>\n",
       "      <td>0</td>\n",
       "    </tr>\n",
       "    <tr>\n",
       "      <th>1015425</th>\n",
       "      <td>3</td>\n",
       "      <td>1</td>\n",
       "      <td>1</td>\n",
       "      <td>1</td>\n",
       "      <td>2</td>\n",
       "      <td>2.0</td>\n",
       "      <td>3</td>\n",
       "      <td>1</td>\n",
       "      <td>1</td>\n",
       "      <td>0</td>\n",
       "    </tr>\n",
       "    <tr>\n",
       "      <th>1016277</th>\n",
       "      <td>6</td>\n",
       "      <td>8</td>\n",
       "      <td>8</td>\n",
       "      <td>1</td>\n",
       "      <td>3</td>\n",
       "      <td>4.0</td>\n",
       "      <td>3</td>\n",
       "      <td>7</td>\n",
       "      <td>1</td>\n",
       "      <td>0</td>\n",
       "    </tr>\n",
       "    <tr>\n",
       "      <th>1017023</th>\n",
       "      <td>4</td>\n",
       "      <td>1</td>\n",
       "      <td>1</td>\n",
       "      <td>3</td>\n",
       "      <td>2</td>\n",
       "      <td>1.0</td>\n",
       "      <td>3</td>\n",
       "      <td>1</td>\n",
       "      <td>1</td>\n",
       "      <td>0</td>\n",
       "    </tr>\n",
       "    <tr>\n",
       "      <th>1017122</th>\n",
       "      <td>8</td>\n",
       "      <td>10</td>\n",
       "      <td>10</td>\n",
       "      <td>8</td>\n",
       "      <td>7</td>\n",
       "      <td>10.0</td>\n",
       "      <td>9</td>\n",
       "      <td>7</td>\n",
       "      <td>1</td>\n",
       "      <td>1</td>\n",
       "    </tr>\n",
       "    <tr>\n",
       "      <th>1018099</th>\n",
       "      <td>1</td>\n",
       "      <td>1</td>\n",
       "      <td>1</td>\n",
       "      <td>1</td>\n",
       "      <td>2</td>\n",
       "      <td>10.0</td>\n",
       "      <td>3</td>\n",
       "      <td>1</td>\n",
       "      <td>1</td>\n",
       "      <td>0</td>\n",
       "    </tr>\n",
       "    <tr>\n",
       "      <th>1018561</th>\n",
       "      <td>2</td>\n",
       "      <td>1</td>\n",
       "      <td>2</td>\n",
       "      <td>1</td>\n",
       "      <td>2</td>\n",
       "      <td>1.0</td>\n",
       "      <td>3</td>\n",
       "      <td>1</td>\n",
       "      <td>1</td>\n",
       "      <td>0</td>\n",
       "    </tr>\n",
       "    <tr>\n",
       "      <th>1033078</th>\n",
       "      <td>2</td>\n",
       "      <td>1</td>\n",
       "      <td>1</td>\n",
       "      <td>1</td>\n",
       "      <td>2</td>\n",
       "      <td>1.0</td>\n",
       "      <td>1</td>\n",
       "      <td>1</td>\n",
       "      <td>5</td>\n",
       "      <td>0</td>\n",
       "    </tr>\n",
       "    <tr>\n",
       "      <th>1033078</th>\n",
       "      <td>4</td>\n",
       "      <td>2</td>\n",
       "      <td>1</td>\n",
       "      <td>1</td>\n",
       "      <td>2</td>\n",
       "      <td>1.0</td>\n",
       "      <td>2</td>\n",
       "      <td>1</td>\n",
       "      <td>1</td>\n",
       "      <td>0</td>\n",
       "    </tr>\n",
       "  </tbody>\n",
       "</table>\n",
       "</div>"
      ],
      "text/plain": [
       "         CT  UCSize  UCShape  MA  SECSize    BN  BC  NN  Mitoses  Diagnosis\n",
       "ID                                                                         \n",
       "1000025   5       1        1   1        2   1.0   3   1        1          0\n",
       "1002945   5       4        4   5        7  10.0   3   2        1          0\n",
       "1015425   3       1        1   1        2   2.0   3   1        1          0\n",
       "1016277   6       8        8   1        3   4.0   3   7        1          0\n",
       "1017023   4       1        1   3        2   1.0   3   1        1          0\n",
       "1017122   8      10       10   8        7  10.0   9   7        1          1\n",
       "1018099   1       1        1   1        2  10.0   3   1        1          0\n",
       "1018561   2       1        2   1        2   1.0   3   1        1          0\n",
       "1033078   2       1        1   1        2   1.0   1   1        5          0\n",
       "1033078   4       2        1   1        2   1.0   2   1        1          0"
      ]
     },
     "execution_count": 11,
     "metadata": {},
     "output_type": "execute_result"
    }
   ],
   "source": [
    "# check that the data is correct\n",
    "data.head(10)"
   ]
  },
  {
   "cell_type": "code",
   "execution_count": 12,
   "id": "f22cf53b",
   "metadata": {},
   "outputs": [
    {
     "data": {
      "text/html": [
       "<div>\n",
       "<style scoped>\n",
       "    .dataframe tbody tr th:only-of-type {\n",
       "        vertical-align: middle;\n",
       "    }\n",
       "\n",
       "    .dataframe tbody tr th {\n",
       "        vertical-align: top;\n",
       "    }\n",
       "\n",
       "    .dataframe thead th {\n",
       "        text-align: right;\n",
       "    }\n",
       "</style>\n",
       "<table border=\"1\" class=\"dataframe\">\n",
       "  <thead>\n",
       "    <tr style=\"text-align: right;\">\n",
       "      <th></th>\n",
       "      <th>CT</th>\n",
       "      <th>UCSize</th>\n",
       "      <th>UCShape</th>\n",
       "      <th>MA</th>\n",
       "      <th>SECSize</th>\n",
       "      <th>BN</th>\n",
       "      <th>BC</th>\n",
       "      <th>NN</th>\n",
       "      <th>Mitoses</th>\n",
       "      <th>Diagnosis</th>\n",
       "    </tr>\n",
       "    <tr>\n",
       "      <th>ID</th>\n",
       "      <th></th>\n",
       "      <th></th>\n",
       "      <th></th>\n",
       "      <th></th>\n",
       "      <th></th>\n",
       "      <th></th>\n",
       "      <th></th>\n",
       "      <th></th>\n",
       "      <th></th>\n",
       "      <th></th>\n",
       "    </tr>\n",
       "  </thead>\n",
       "  <tbody>\n",
       "    <tr>\n",
       "      <th>654546</th>\n",
       "      <td>1</td>\n",
       "      <td>1</td>\n",
       "      <td>1</td>\n",
       "      <td>1</td>\n",
       "      <td>2</td>\n",
       "      <td>1.0</td>\n",
       "      <td>1</td>\n",
       "      <td>1</td>\n",
       "      <td>8</td>\n",
       "      <td>0</td>\n",
       "    </tr>\n",
       "    <tr>\n",
       "      <th>654546</th>\n",
       "      <td>1</td>\n",
       "      <td>1</td>\n",
       "      <td>1</td>\n",
       "      <td>3</td>\n",
       "      <td>2</td>\n",
       "      <td>1.0</td>\n",
       "      <td>1</td>\n",
       "      <td>1</td>\n",
       "      <td>1</td>\n",
       "      <td>0</td>\n",
       "    </tr>\n",
       "    <tr>\n",
       "      <th>695091</th>\n",
       "      <td>5</td>\n",
       "      <td>10</td>\n",
       "      <td>10</td>\n",
       "      <td>5</td>\n",
       "      <td>4</td>\n",
       "      <td>5.0</td>\n",
       "      <td>4</td>\n",
       "      <td>4</td>\n",
       "      <td>1</td>\n",
       "      <td>1</td>\n",
       "    </tr>\n",
       "    <tr>\n",
       "      <th>714039</th>\n",
       "      <td>3</td>\n",
       "      <td>1</td>\n",
       "      <td>1</td>\n",
       "      <td>1</td>\n",
       "      <td>2</td>\n",
       "      <td>1.0</td>\n",
       "      <td>1</td>\n",
       "      <td>1</td>\n",
       "      <td>1</td>\n",
       "      <td>0</td>\n",
       "    </tr>\n",
       "    <tr>\n",
       "      <th>763235</th>\n",
       "      <td>3</td>\n",
       "      <td>1</td>\n",
       "      <td>1</td>\n",
       "      <td>1</td>\n",
       "      <td>2</td>\n",
       "      <td>1.0</td>\n",
       "      <td>2</td>\n",
       "      <td>1</td>\n",
       "      <td>2</td>\n",
       "      <td>0</td>\n",
       "    </tr>\n",
       "    <tr>\n",
       "      <th>776715</th>\n",
       "      <td>3</td>\n",
       "      <td>1</td>\n",
       "      <td>1</td>\n",
       "      <td>1</td>\n",
       "      <td>3</td>\n",
       "      <td>2.0</td>\n",
       "      <td>1</td>\n",
       "      <td>1</td>\n",
       "      <td>1</td>\n",
       "      <td>0</td>\n",
       "    </tr>\n",
       "    <tr>\n",
       "      <th>841769</th>\n",
       "      <td>2</td>\n",
       "      <td>1</td>\n",
       "      <td>1</td>\n",
       "      <td>1</td>\n",
       "      <td>2</td>\n",
       "      <td>1.0</td>\n",
       "      <td>1</td>\n",
       "      <td>1</td>\n",
       "      <td>1</td>\n",
       "      <td>0</td>\n",
       "    </tr>\n",
       "    <tr>\n",
       "      <th>888820</th>\n",
       "      <td>5</td>\n",
       "      <td>10</td>\n",
       "      <td>10</td>\n",
       "      <td>3</td>\n",
       "      <td>7</td>\n",
       "      <td>3.0</td>\n",
       "      <td>8</td>\n",
       "      <td>10</td>\n",
       "      <td>2</td>\n",
       "      <td>1</td>\n",
       "    </tr>\n",
       "    <tr>\n",
       "      <th>897471</th>\n",
       "      <td>4</td>\n",
       "      <td>8</td>\n",
       "      <td>6</td>\n",
       "      <td>4</td>\n",
       "      <td>3</td>\n",
       "      <td>4.0</td>\n",
       "      <td>10</td>\n",
       "      <td>6</td>\n",
       "      <td>1</td>\n",
       "      <td>1</td>\n",
       "    </tr>\n",
       "    <tr>\n",
       "      <th>897471</th>\n",
       "      <td>4</td>\n",
       "      <td>8</td>\n",
       "      <td>8</td>\n",
       "      <td>5</td>\n",
       "      <td>4</td>\n",
       "      <td>5.0</td>\n",
       "      <td>10</td>\n",
       "      <td>4</td>\n",
       "      <td>1</td>\n",
       "      <td>1</td>\n",
       "    </tr>\n",
       "  </tbody>\n",
       "</table>\n",
       "</div>"
      ],
      "text/plain": [
       "        CT  UCSize  UCShape  MA  SECSize   BN  BC  NN  Mitoses  Diagnosis\n",
       "ID                                                                       \n",
       "654546   1       1        1   1        2  1.0   1   1        8          0\n",
       "654546   1       1        1   3        2  1.0   1   1        1          0\n",
       "695091   5      10       10   5        4  5.0   4   4        1          1\n",
       "714039   3       1        1   1        2  1.0   1   1        1          0\n",
       "763235   3       1        1   1        2  1.0   2   1        2          0\n",
       "776715   3       1        1   1        3  2.0   1   1        1          0\n",
       "841769   2       1        1   1        2  1.0   1   1        1          0\n",
       "888820   5      10       10   3        7  3.0   8  10        2          1\n",
       "897471   4       8        6   4        3  4.0  10   6        1          1\n",
       "897471   4       8        8   5        4  5.0  10   4        1          1"
      ]
     },
     "execution_count": 12,
     "metadata": {},
     "output_type": "execute_result"
    }
   ],
   "source": [
    "# check the end rows to ensure the dataset matches\n",
    "data.tail(10)"
   ]
  },
  {
   "cell_type": "code",
   "execution_count": 13,
   "id": "70a1a155",
   "metadata": {},
   "outputs": [
    {
     "name": "stdout",
     "output_type": "stream",
     "text": [
      "1     139\n",
      "5     128\n",
      "3     104\n",
      "4      79\n",
      "10     69\n",
      "2      50\n",
      "8      44\n",
      "6      33\n",
      "7      23\n",
      "9      14\n",
      "Name: CT, dtype: int64\n",
      "1     373\n",
      "10     67\n",
      "3      52\n",
      "2      45\n",
      "4      38\n",
      "5      30\n",
      "8      28\n",
      "6      25\n",
      "7      19\n",
      "9       6\n",
      "Name: UCSize, dtype: int64\n",
      "1     346\n",
      "10     58\n",
      "2      58\n",
      "3      53\n",
      "4      43\n",
      "5      32\n",
      "7      30\n",
      "6      29\n",
      "8      27\n",
      "9       7\n",
      "Name: UCShape, dtype: int64\n",
      "1     393\n",
      "3      58\n",
      "2      58\n",
      "10     55\n",
      "4      33\n",
      "8      25\n",
      "5      23\n",
      "6      21\n",
      "7      13\n",
      "9       4\n",
      "Name: MA, dtype: int64\n",
      "2     376\n",
      "3      71\n",
      "4      48\n",
      "1      44\n",
      "6      40\n",
      "5      39\n",
      "10     31\n",
      "8      21\n",
      "7      11\n",
      "9       2\n",
      "Name: SECSize, dtype: int64\n",
      "1.0     402\n",
      "10.0    132\n",
      "2.0      30\n",
      "5.0      30\n",
      "3.0      28\n",
      "8.0      21\n",
      "4.0      19\n",
      "9.0       9\n",
      "7.0       8\n",
      "6.0       4\n",
      "Name: BN, dtype: int64\n",
      "3     161\n",
      "2     160\n",
      "1     150\n",
      "7      71\n",
      "4      39\n",
      "5      34\n",
      "8      28\n",
      "10     20\n",
      "9      11\n",
      "6       9\n",
      "Name: BC, dtype: int64\n",
      "1     432\n",
      "10     60\n",
      "3      42\n",
      "2      36\n",
      "8      23\n",
      "6      22\n",
      "5      19\n",
      "4      18\n",
      "7      16\n",
      "9      15\n",
      "Name: NN, dtype: int64\n",
      "1     563\n",
      "2      35\n",
      "3      33\n",
      "10     14\n",
      "4      12\n",
      "7       9\n",
      "8       8\n",
      "5       6\n",
      "6       3\n",
      "Name: Mitoses, dtype: int64\n",
      "0    444\n",
      "1    239\n",
      "Name: Diagnosis, dtype: int64\n"
     ]
    }
   ],
   "source": [
    "# Get the count of each value within each column\n",
    "for var in data.columns:\n",
    "    \n",
    "    print(data[var].value_counts())"
   ]
  },
  {
   "cell_type": "code",
   "execution_count": 14,
   "id": "e9468346",
   "metadata": {},
   "outputs": [
    {
     "data": {
      "text/html": [
       "<div>\n",
       "<style scoped>\n",
       "    .dataframe tbody tr th:only-of-type {\n",
       "        vertical-align: middle;\n",
       "    }\n",
       "\n",
       "    .dataframe tbody tr th {\n",
       "        vertical-align: top;\n",
       "    }\n",
       "\n",
       "    .dataframe thead th {\n",
       "        text-align: right;\n",
       "    }\n",
       "</style>\n",
       "<table border=\"1\" class=\"dataframe\">\n",
       "  <thead>\n",
       "    <tr style=\"text-align: right;\">\n",
       "      <th></th>\n",
       "      <th>CT</th>\n",
       "      <th>UCSize</th>\n",
       "      <th>UCShape</th>\n",
       "      <th>MA</th>\n",
       "      <th>SECSize</th>\n",
       "      <th>BN</th>\n",
       "      <th>BC</th>\n",
       "      <th>NN</th>\n",
       "      <th>Mitoses</th>\n",
       "      <th>Diagnosis</th>\n",
       "    </tr>\n",
       "  </thead>\n",
       "  <tbody>\n",
       "    <tr>\n",
       "      <th>count</th>\n",
       "      <td>683.000000</td>\n",
       "      <td>683.000000</td>\n",
       "      <td>683.000000</td>\n",
       "      <td>683.000000</td>\n",
       "      <td>683.000000</td>\n",
       "      <td>683.000000</td>\n",
       "      <td>683.000000</td>\n",
       "      <td>683.000000</td>\n",
       "      <td>683.000000</td>\n",
       "      <td>683.000000</td>\n",
       "    </tr>\n",
       "    <tr>\n",
       "      <th>mean</th>\n",
       "      <td>4.442167</td>\n",
       "      <td>3.150805</td>\n",
       "      <td>3.215227</td>\n",
       "      <td>2.830161</td>\n",
       "      <td>3.234261</td>\n",
       "      <td>3.544656</td>\n",
       "      <td>3.445095</td>\n",
       "      <td>2.869693</td>\n",
       "      <td>1.603221</td>\n",
       "      <td>0.349927</td>\n",
       "    </tr>\n",
       "    <tr>\n",
       "      <th>std</th>\n",
       "      <td>2.820761</td>\n",
       "      <td>3.065145</td>\n",
       "      <td>2.988581</td>\n",
       "      <td>2.864562</td>\n",
       "      <td>2.223085</td>\n",
       "      <td>3.643857</td>\n",
       "      <td>2.449697</td>\n",
       "      <td>3.052666</td>\n",
       "      <td>1.732674</td>\n",
       "      <td>0.477296</td>\n",
       "    </tr>\n",
       "    <tr>\n",
       "      <th>min</th>\n",
       "      <td>1.000000</td>\n",
       "      <td>1.000000</td>\n",
       "      <td>1.000000</td>\n",
       "      <td>1.000000</td>\n",
       "      <td>1.000000</td>\n",
       "      <td>1.000000</td>\n",
       "      <td>1.000000</td>\n",
       "      <td>1.000000</td>\n",
       "      <td>1.000000</td>\n",
       "      <td>0.000000</td>\n",
       "    </tr>\n",
       "    <tr>\n",
       "      <th>25%</th>\n",
       "      <td>2.000000</td>\n",
       "      <td>1.000000</td>\n",
       "      <td>1.000000</td>\n",
       "      <td>1.000000</td>\n",
       "      <td>2.000000</td>\n",
       "      <td>1.000000</td>\n",
       "      <td>2.000000</td>\n",
       "      <td>1.000000</td>\n",
       "      <td>1.000000</td>\n",
       "      <td>0.000000</td>\n",
       "    </tr>\n",
       "    <tr>\n",
       "      <th>50%</th>\n",
       "      <td>4.000000</td>\n",
       "      <td>1.000000</td>\n",
       "      <td>1.000000</td>\n",
       "      <td>1.000000</td>\n",
       "      <td>2.000000</td>\n",
       "      <td>1.000000</td>\n",
       "      <td>3.000000</td>\n",
       "      <td>1.000000</td>\n",
       "      <td>1.000000</td>\n",
       "      <td>0.000000</td>\n",
       "    </tr>\n",
       "    <tr>\n",
       "      <th>75%</th>\n",
       "      <td>6.000000</td>\n",
       "      <td>5.000000</td>\n",
       "      <td>5.000000</td>\n",
       "      <td>4.000000</td>\n",
       "      <td>4.000000</td>\n",
       "      <td>6.000000</td>\n",
       "      <td>5.000000</td>\n",
       "      <td>4.000000</td>\n",
       "      <td>1.000000</td>\n",
       "      <td>1.000000</td>\n",
       "    </tr>\n",
       "    <tr>\n",
       "      <th>max</th>\n",
       "      <td>10.000000</td>\n",
       "      <td>10.000000</td>\n",
       "      <td>10.000000</td>\n",
       "      <td>10.000000</td>\n",
       "      <td>10.000000</td>\n",
       "      <td>10.000000</td>\n",
       "      <td>10.000000</td>\n",
       "      <td>10.000000</td>\n",
       "      <td>10.000000</td>\n",
       "      <td>1.000000</td>\n",
       "    </tr>\n",
       "  </tbody>\n",
       "</table>\n",
       "</div>"
      ],
      "text/plain": [
       "               CT      UCSize     UCShape          MA     SECSize          BN  \\\n",
       "count  683.000000  683.000000  683.000000  683.000000  683.000000  683.000000   \n",
       "mean     4.442167    3.150805    3.215227    2.830161    3.234261    3.544656   \n",
       "std      2.820761    3.065145    2.988581    2.864562    2.223085    3.643857   \n",
       "min      1.000000    1.000000    1.000000    1.000000    1.000000    1.000000   \n",
       "25%      2.000000    1.000000    1.000000    1.000000    2.000000    1.000000   \n",
       "50%      4.000000    1.000000    1.000000    1.000000    2.000000    1.000000   \n",
       "75%      6.000000    5.000000    5.000000    4.000000    4.000000    6.000000   \n",
       "max     10.000000   10.000000   10.000000   10.000000   10.000000   10.000000   \n",
       "\n",
       "               BC          NN     Mitoses   Diagnosis  \n",
       "count  683.000000  683.000000  683.000000  683.000000  \n",
       "mean     3.445095    2.869693    1.603221    0.349927  \n",
       "std      2.449697    3.052666    1.732674    0.477296  \n",
       "min      1.000000    1.000000    1.000000    0.000000  \n",
       "25%      2.000000    1.000000    1.000000    0.000000  \n",
       "50%      3.000000    1.000000    1.000000    0.000000  \n",
       "75%      5.000000    4.000000    1.000000    1.000000  \n",
       "max     10.000000   10.000000   10.000000    1.000000  "
      ]
     },
     "execution_count": 14,
     "metadata": {},
     "output_type": "execute_result"
    }
   ],
   "source": [
    "# Transpose the data\n",
    "data.describe()"
   ]
  },
  {
   "cell_type": "markdown",
   "id": "f42109c3",
   "metadata": {},
   "source": [
    "## 2. Literature review on classifiers"
   ]
  },
  {
   "cell_type": "markdown",
   "id": "a66c39a5",
   "metadata": {},
   "source": [
    "For the dataset the Diagnosis column will be the classifier. There will be 2 classes which are Beneign and Malignent. Firstly I will review two classifier methods used in a study conducted in the University of Surrey, Guildford, in the UK. In this study, two ensemble ML classifier: eXtreme Gradient Boosting (XGBoost) and Random Forest (RF) classifiers are used to test the Wisconsin Breast Cancer dataset(An Evaluation of the WBDC)."
   ]
  },
  {
   "cell_type": "markdown",
   "id": "73c1fe44",
   "metadata": {},
   "source": [
    "## 2.1 XGBoost\n",
    "\n",
    "XG boost is a decision-tree based Machine Learning algorithm which used a gradient boosting framework. So the XGboost is a more powerful version gradient boosting as both use Decision Trees which are made up of binary questions and the final predictions happen at the leaf. (Wikipedia)\n",
    "\n",
    "Boosting is to attempt to build a strong classifier from a number of weak classifiers. With booosting it begins by building the first made which is from the training data. Then from this first model, the second model is built by correcting the errors . This procedure is continued in the complete training data is predicted correctly.\n",
    "\n",
    "XG boost uses Cross-Validation as its evaluation process. In this process it estimates the unseen data by generating many non-overlapping train/test splits into training data and reporting the average test set performance across all data splits. (towardsdatascience) \n",
    "\n",
    "XG Boost is ususing used on larger datasets that have more than 1000 training samples, that have less than 100 features. So really compared to the Gradient Boosting, its main difference is that it can work quicker through larger datasets."
   ]
  },
  {
   "attachments": {
    "XGBoost.png": {
     "image/png": "[encoded data removed]"
    }
   },
   "cell_type": "markdown",
   "id": "be07148d",
   "metadata": {},
   "source": [
    "##### The following diagram is to explain the process of XGboost:\n",
    "\n",
    "![XGBoost.png](attachment:XGBoost.png)"
   ]
  },
  {
   "cell_type": "markdown",
   "id": "d9d3ba47",
   "metadata": {},
   "source": [
    "## 2.2 Random Forest"
   ]
  },
  {
   "cell_type": "markdown",
   "id": "2f98017f",
   "metadata": {},
   "source": [
    "Random forest builds a multitude decision trees from different samples at training times, then takes the majority vote for the classification and in the case of regression it takes the average vote. (analyticsvidhya) A decision tree is really a question posed and then you have a choice of yes or no. Descision trees are sensitive to the training data, one change to the data, can change the leafs in the decision tree completely. Random forests will generally perform better than decision trees but their accuracy can be lower than gradient boosted trees.(Wikipedia)\n",
    "\n",
    "In the study, Random Forest will take more processing time, as the decision trees will have to be created so the algorithm will have to parse through the data. With Random Forest will reduce the ris of overfitting as there will be a robust number of decision trees, which will get the average, therefore lead to less errors.\n",
    "\n",
    "Random forest is used in Finance, as it allows businesses to spend less time on data management and pre-preprocessing tasks. Customers who have a high credit risks can be evaluated. (ibm)"
   ]
  },
  {
   "attachments": {
    "Random%20Forest%20Diagram.webp": {
     "image/webp": "[encoded data removed]"
    }
   },
   "cell_type": "markdown",
   "id": "d72cfc29",
   "metadata": {},
   "source": [
    "#### The following diagram explains how Random Forest works -\n",
    "\n",
    "![Random%20Forest%20Diagram.webp](attachment:Random%20Forest%20Diagram.webp)"
   ]
  },
  {
   "cell_type": "markdown",
   "id": "ed197770",
   "metadata": {},
   "source": [
    "## 2.3 Study conclusion"
   ]
  },
  {
   "cell_type": "markdown",
   "id": "d1871d48",
   "metadata": {},
   "source": [
    "In the study, the data was cleansed with the help of Python where the investigators found there ws 16 records which needed to be dropped as they had missing data. Then they pinpointed 5 features as the best for the classification task. The features used were the following Uniformity of Cell Size, Uniformity of Cell Shape, Bland Chromatin, Normal Nucleoli, and \n",
    "Mitoses. In addition, they used the min max normalization to scale the features between 0 and 1 to remove the \n",
    "skewness that is associated with the dataset. In the experiment they split the data into the ratio of 80/20 where 80 was the training data and 20 was the test set. \n",
    "\n",
    "The classifiers performances were evaluated using metrics such as Accuracy, Precision, Recall, and F1- Score. Based off the results it was found that XGBoost had the highest classification accuracy with a score of 98.53% against Random Forest which had a score of 98.53%. So they tested based off the classifier performance metrisc and found again that XGBoost had the classification accuracy with 99.2% against Random Forest with a score of 98.05%. (An Evaluation of the WBDC)\n",
    "\n",
    "The main take away from the results of both Machine Learning approaches is that both had a high classification accuracy rate. The hardest part according to the authors was classifying the data. As I already explained about the Random Forest, it probably took longer and had less accuracy due the processing of the data."
   ]
  },
  {
   "cell_type": "markdown",
   "id": "cd611e0a",
   "metadata": {},
   "source": [
    "## 2.4 K-nearest Neighbours Algorithm (KNN)\n",
    "\n",
    "Based on the size of the data input I am going to use K-nearest Neighbours Algorithm. It can be used for both classification and regression problems in data analysis. This is a supervised machine learning algorithm which relies on the input data which is labelled. With the Wisconsin Breast Original dataset, this has the attributes labelled and is not a very big dataset. The KNN Algorithm has been known to be very trustworthy and reliable. \n",
    "\n",
    "Also the KNN algorithm is a non-parametric algorithm which mains it makes no assumptions about the data until it reviews it. For example Linear Regression can only be used on Linear data so with the algorithm I have chosen, it will not be restricted.\n",
    "\n",
    "Based off the dataset I will be reviewing, I think these characteristics are best for the medical fields. With the dataset being defined already, the algorithm can make the assumptions more easily.\n",
    "\n",
    "For KNN classification, the point is classified based on the the neighbour types. The data point is assigned for the most frequent class to K nearest neighbours. For the KNN regression, it is the average of the K nearest neighbors. \n",
    "\n",
    "A classification problem has a discrete value as its output. For example you ask a question with yes or no as the possible answers. No in between, the answers are described as discrete. For regression this takes an example which is a row in a dataset. You can have for example height and weight, you then set an independent variable and you have a dependent variable. What KNN does in this case if they find similar input they will class it as neighbout rather than trying to understand the data structure like unsupervised learning. (towarddatascience-KNN)\n",
    "\n",
    "Setting the target variable is setting the variable that you want to understand from clearly. For this dataset it is clear from the start that Diagnosis is the target to find out is the Diagnosis Benign or Malignent.\n",
    "\n",
    "### 2.4.1 Elbow method\n",
    "\n",
    "As a follow on from selecting the KNN algorithm, you need find the optimal value for K when building the model. This is the most cricital factor when using this KNN. There is two outcomes when you select a value that is too high or too low. If the value K is too small the noise will have a higher influence on he result. A K value that is too large it can make the running of the algorithm expensive and a higher bias when there is lower variance. \n",
    "\n",
    "The common technique used is to pick an odd value K when the class is even.So the elbow method is to use the Cross Validation technique. By doing it this way we can test use the different values of k to validate. This can give more accuracy by being able to test with a variety of values.\n",
    "\n",
    "### 2.4.2 Lazy Learners vs Eager Learners\n",
    "\n",
    "With KNN maching learning algorithm, it uses the Lazy Learners method which does not discriminate from the training data like other methods. What it does is memorizes the training dataset instead. There is no training time in in KNN. (i2tutorials.com)\n",
    "\n",
    "When there is no training time on training dataset, this can be considered as expensive in business as the algorithm requires more resource it wants to run the check for nearest neighbours as it has to search through the etire dataset each time it is set to run.\n",
    "\n",
    "Eager learners on the otherhand tries to teach the training data when its provided. When the algorithm is used to do the prediction it is based on the previosus data."
   ]
  },
  {
   "cell_type": "markdown",
   "id": "f81931dc",
   "metadata": {},
   "source": [
    "## 2.5 Naive Bayes\n",
    "\n",
    "Naive Bayes is a probabilistic algorithm, that is used for classification problems such as the dataset we are analysing. The algorithm is based on probablibilty of an event occurring given that another another event has occurred, this is also known as Conditional probability. (Linkedin)\n",
    "\n",
    "In this analysis I will be using the Gaussian version but all versions will have the same characteristics when classifying.It is the assumption that all predictors contribute equally and independtly to slecting the output class. In the real world it is hard for all predictors to be equal.\n",
    "\n",
    "How the algorithm works is that the dataset is broken into two parts, which are the feature matrix and the response vector. The feature matrix takes all the rows and categorised into dependent features. The response vector is the class which is diagnosis from the dataset we are analysing. (geeksforgeeksnaive) \n",
    "\n",
    "For the example here, the variables won't really rely on each other. But they will be independent of each other and when this algorithm goes to work it is quite successful. "
   ]
  },
  {
   "cell_type": "markdown",
   "id": "41ee96b2",
   "metadata": {},
   "source": [
    "## 3. Statistical Analysis"
   ]
  },
  {
   "cell_type": "code",
   "execution_count": 15,
   "id": "4a8cb32e",
   "metadata": {},
   "outputs": [
    {
     "data": {
      "text/plain": [
       "0    444\n",
       "1    239\n",
       "Name: Diagnosis, dtype: int64"
      ]
     },
     "execution_count": 15,
     "metadata": {},
     "output_type": "execute_result"
    }
   ],
   "source": [
    "# Check the frequency of class\n",
    "data['Diagnosis'].value_counts()"
   ]
  },
  {
   "cell_type": "code",
   "execution_count": 16,
   "id": "a4aebd6e",
   "metadata": {},
   "outputs": [
    {
     "data": {
      "text/plain": [
       "0    0.650073\n",
       "1    0.349927\n",
       "Name: Diagnosis, dtype: float64"
      ]
     },
     "execution_count": 16,
     "metadata": {},
     "output_type": "execute_result"
    }
   ],
   "source": [
    "# percentage of frequency distribution of class\n",
    "data['Diagnosis'].value_counts()/np.float64(len(data))"
   ]
  },
  {
   "cell_type": "code",
   "execution_count": 17,
   "id": "dc64405c",
   "metadata": {},
   "outputs": [
    {
     "data": {
      "image/png": "[encoded data removed]",
      "text/plain": [
       "<Figure size 2160x1800 with 10 Axes>"
      ]
     },
     "metadata": {
      "needs_background": "light"
     },
     "output_type": "display_data"
    }
   ],
   "source": [
    "# check the distributions of variables over histograms\n",
    "\n",
    "plt.rcParams['figure.figsize']=(30,25)\n",
    "\n",
    "#sharez and sharey to show the axises for the sub plots\n",
    "data.plot(kind='hist', bins=10, subplots=True, layout=(5,2), sharex=False, sharey=False)\n",
    "\n",
    "plt.show()"
   ]
  },
  {
   "cell_type": "markdown",
   "id": "2109fcc9",
   "metadata": {},
   "source": [
    "The majority of the values are clustered at the lower scores for the different attributes. Clump thickness has a density for the different values compared to the rest of the attributes."
   ]
  },
  {
   "cell_type": "code",
   "execution_count": 18,
   "id": "cb506335",
   "metadata": {},
   "outputs": [],
   "source": [
    "# get the correlation between the attributes\n",
    "corr = data.corr()"
   ]
  },
  {
   "cell_type": "code",
   "execution_count": 19,
   "id": "906faf0d",
   "metadata": {},
   "outputs": [
    {
     "data": {
      "text/plain": [
       "Diagnosis    1.000000\n",
       "BN           0.822696\n",
       "UCShape      0.821891\n",
       "UCSize       0.820801\n",
       "BC           0.758228\n",
       "NN           0.718677\n",
       "CT           0.714790\n",
       "MA           0.706294\n",
       "SECSize      0.690958\n",
       "Mitoses      0.423448\n",
       "Name: Diagnosis, dtype: float64"
      ]
     },
     "execution_count": 19,
     "metadata": {},
     "output_type": "execute_result"
    }
   ],
   "source": [
    "# For this data anlaysis the target variable is diagnosis \n",
    "# will get the correlation for diagnosis\n",
    "\n",
    "corr['Diagnosis'].sort_values(ascending=False)"
   ]
  },
  {
   "cell_type": "markdown",
   "id": "86c33ca5",
   "metadata": {},
   "source": [
    "The majority of the attributes are over 0.5 when the correlation is returned in relation to the diagnosis. The highest correlated is Bare Nuclei, so patients with a higher score in this attribute will have a higher probability of having the diagnosis of Malignent.\n",
    "\n",
    "This data is quite striking as there is very high correlation for Uniformity Cell Shap and Uniformity Cell Size. So it would make assume when a patient has a Malignent diagnosis the tumour will have high correlation for a few attributes.\n"
   ]
  },
  {
   "cell_type": "code",
   "execution_count": 20,
   "id": "edebd50a",
   "metadata": {},
   "outputs": [
    {
     "data": {
      "image/png": "[encoded data removed]",
      "text/plain": [
       "<Figure size 1080x720 with 2 Axes>"
      ]
     },
     "metadata": {
      "needs_background": "light"
     },
     "output_type": "display_data"
    }
   ],
   "source": [
    "# Visualise the data on a heatmap\n",
    "\n",
    "# set the size of the heatmap\n",
    "plt.figure(figsize=(15,10))\n",
    "# title of the heatmap\n",
    "plt.title('Correlation of Attributes with Diagnosis variable')\n",
    "# call the correlation, set value to True, set the rectangles. font and linecolour\n",
    "a = sns.heatmap(corr, square=True, annot=True, fmt='.2f', linecolor='white')\n",
    "# labels set for the axises\n",
    "a.set_xticklabels(a.get_xticklabels(), rotation=90)\n",
    "a.set_yticklabels(a.get_yticklabels(), rotation=30)\n",
    "# show the heatmap\n",
    "plt.show()"
   ]
  },
  {
   "cell_type": "markdown",
   "id": "d2fcde71",
   "metadata": {},
   "source": [
    "# 4. Classifiers to be applied"
   ]
  },
  {
   "cell_type": "markdown",
   "id": "191e783c",
   "metadata": {},
   "source": [
    "## 4.1. Train the classifiers"
   ]
  },
  {
   "cell_type": "code",
   "execution_count": 90,
   "id": "658b9498",
   "metadata": {},
   "outputs": [],
   "source": [
    "# setting the target variable\n",
    "x = data.drop(['Diagnosis'], axis=1)\n",
    "\n",
    "y = data['Diagnosis']"
   ]
  },
  {
   "cell_type": "markdown",
   "id": "45dc1b6d",
   "metadata": {},
   "source": [
    "In splitting the data I used the most common split in machine learning. 80% goes into the training set and 20% goes into the testing set. The training set is for the model to learn the features of the dataset. Once the training is completed the test is used to provide a unbiased final mode performance metric.\n",
    "\n",
    "Also I have used the accuracy score add on to test the accuracy of the results of the classifier which allow me to compare which classfier performed best when they are all run. "
   ]
  },
  {
   "cell_type": "code",
   "execution_count": 102,
   "id": "7d71e95e",
   "metadata": {},
   "outputs": [],
   "source": [
    "# splitting the target \n",
    "from sklearn.model_selection import train_test_split\n",
    "\n",
    "x_train, x_test, y_train, y_test = train_test_split(x, y, test_size = 0.2, random_state = 42)"
   ]
  },
  {
   "cell_type": "markdown",
   "id": "b14ece0f",
   "metadata": {},
   "source": [
    "## 4.2 Random forest"
   ]
  },
  {
   "cell_type": "code",
   "execution_count": 103,
   "id": "6afd16d7",
   "metadata": {},
   "outputs": [
    {
     "data": {
      "text/plain": [
       "array([1, 1, 0, 0, 0, 0, 0, 0, 1, 0, 0, 0, 0, 0, 0, 1, 0, 1, 0, 1, 1, 0,\n",
       "       1, 0, 0, 0, 1, 1, 0, 1, 0, 1, 1, 0, 0, 0, 1, 0, 1, 1, 0, 1, 1, 0,\n",
       "       0, 1, 0, 1, 0, 1, 0, 0, 0, 1, 0, 1, 1, 0, 0, 1, 0, 0, 0, 1, 0, 0,\n",
       "       1, 0, 0, 0, 1, 0, 0, 0, 1, 1, 0, 0, 1, 1, 1, 1, 0, 1, 0, 1, 0, 0,\n",
       "       1, 0, 0, 1, 0, 0, 0, 0, 1, 1, 0, 0, 0, 0, 1, 0, 1, 0, 0, 0, 1, 0,\n",
       "       1, 1, 1, 0, 0, 0, 1, 0, 0, 0, 1, 1, 0, 0, 0, 0, 1, 0, 0, 0, 0, 0,\n",
       "       1, 1, 1, 0, 0], dtype=int64)"
      ]
     },
     "execution_count": 103,
     "metadata": {},
     "output_type": "execute_result"
    }
   ],
   "source": [
    "#Import Random Forest Model\n",
    "from sklearn.ensemble import ExtraTreesClassifier, RandomForestClassifier, BaggingClassifier\n",
    "# import accuracy score for all the machine learning alogrithms\n",
    "from sklearn.metrics import accuracy_score\n",
    "\n",
    "ranf = RandomForestClassifier(random_state=42)\n",
    "ranf.fit(x_train, y_train)\n",
    "\n",
    "ranf_predictions = ranf.predict(x_test)\n",
    "ranf_predictions"
   ]
  },
  {
   "cell_type": "code",
   "execution_count": 104,
   "id": "8d93241d",
   "metadata": {},
   "outputs": [
    {
     "name": "stdout",
     "output_type": "stream",
     "text": [
      "Accuracy score: 94.8905109489051\n"
     ]
    }
   ],
   "source": [
    "ranf_acc = (accuracy_score(y_test,ranf_predictions))*100\n",
    "\n",
    "print(\"Accuracy score:\",ranf_acc)"
   ]
  },
  {
   "cell_type": "markdown",
   "id": "8dca8b3d",
   "metadata": {},
   "source": [
    "## 4.3 Decision Tree"
   ]
  },
  {
   "cell_type": "code",
   "execution_count": 107,
   "id": "a8c807cf",
   "metadata": {},
   "outputs": [
    {
     "data": {
      "text/plain": [
       "array([1, 1, 0, 0, 0, 0, 0, 0, 0, 0, 0, 0, 0, 0, 1, 1, 0, 1, 0, 1, 1, 0,\n",
       "       1, 0, 0, 0, 1, 1, 0, 1, 0, 1, 1, 0, 0, 0, 1, 0, 1, 1, 0, 1, 1, 0,\n",
       "       0, 1, 0, 1, 0, 1, 0, 0, 0, 1, 0, 1, 0, 0, 0, 1, 0, 0, 0, 1, 0, 0,\n",
       "       1, 1, 0, 0, 1, 0, 0, 0, 1, 1, 0, 0, 0, 1, 1, 1, 0, 1, 0, 1, 0, 0,\n",
       "       1, 0, 0, 1, 0, 1, 0, 0, 1, 1, 0, 1, 0, 0, 1, 0, 0, 0, 0, 0, 1, 0,\n",
       "       1, 1, 0, 0, 0, 0, 1, 0, 0, 0, 1, 1, 0, 0, 0, 0, 1, 0, 1, 0, 0, 0,\n",
       "       1, 1, 1, 0, 0], dtype=int64)"
      ]
     },
     "execution_count": 107,
     "metadata": {},
     "output_type": "execute_result"
    }
   ],
   "source": [
    "from sklearn.tree import DecisionTreeClassifier\n",
    "from sklearn.metrics import accuracy_score\n",
    "#Classifier\n",
    "dect = DecisionTreeClassifier(random_state=42)\n",
    "dect.fit(x_train, y_train)\n",
    "\n",
    "# Predict\n",
    "dect_predictions = dect.predict(x_test)\n",
    "dect_predictions"
   ]
  },
  {
   "cell_type": "code",
   "execution_count": 108,
   "id": "a1f2b020",
   "metadata": {},
   "outputs": [
    {
     "name": "stdout",
     "output_type": "stream",
     "text": [
      "Accuracy score: 93.43065693430657\n"
     ]
    }
   ],
   "source": [
    "# Evaluate\n",
    "dect_acc = accuracy_score(y_test,dect_predictions)*100\n",
    "\n",
    "print(\"Accuracy score:\",dect_acc)"
   ]
  },
  {
   "cell_type": "markdown",
   "id": "73df5392",
   "metadata": {},
   "source": [
    "## 4.4 KNN"
   ]
  },
  {
   "cell_type": "code",
   "execution_count": 111,
   "id": "fcbcd578",
   "metadata": {},
   "outputs": [
    {
     "data": {
      "text/plain": [
       "array([1, 1, 0, 0, 0, 0, 0, 0, 1, 0, 0, 0, 0, 0, 1, 1, 0, 1, 0, 1, 1, 0,\n",
       "       1, 0, 0, 0, 1, 1, 0, 0, 0, 1, 1, 1, 0, 0, 1, 0, 1, 1, 0, 1, 1, 0,\n",
       "       0, 1, 0, 1, 0, 1, 0, 0, 0, 1, 0, 1, 0, 0, 0, 1, 0, 0, 0, 1, 0, 0,\n",
       "       1, 0, 0, 0, 1, 0, 0, 0, 1, 1, 0, 0, 1, 1, 1, 1, 0, 1, 0, 1, 0, 0,\n",
       "       1, 0, 0, 1, 0, 0, 0, 0, 1, 1, 0, 0, 0, 0, 1, 0, 1, 0, 0, 0, 1, 0,\n",
       "       1, 1, 1, 0, 0, 0, 1, 0, 0, 0, 1, 1, 0, 0, 0, 0, 1, 0, 0, 0, 0, 0,\n",
       "       1, 1, 1, 0, 0], dtype=int64)"
      ]
     },
     "execution_count": 111,
     "metadata": {},
     "output_type": "execute_result"
    }
   ],
   "source": [
    "# import knn classifier from sklearn\n",
    "from sklearn.neighbors import KNeighborsClassifier\n",
    "\n",
    "# set the neighbour to 3\n",
    "knn = KNeighborsClassifier(n_neighbors=3)\n",
    "# fit the model to the training set\n",
    "knn.fit(x_train, y_train)\n",
    "\n",
    "# predict\n",
    "knn_predictions = knn.predict(x_test)\n",
    "knn_predictions"
   ]
  },
  {
   "cell_type": "code",
   "execution_count": 112,
   "id": "82eaba1a",
   "metadata": {},
   "outputs": [
    {
     "name": "stdout",
     "output_type": "stream",
     "text": [
      "Accuracy score: 94.8905109489051\n"
     ]
    }
   ],
   "source": [
    "# Evaluate\n",
    "knn_acc = accuracy_score(y_test,knn_predictions)*100\n",
    "\n",
    "print(\"Accuracy score:\",knn_acc)"
   ]
  },
  {
   "cell_type": "markdown",
   "id": "ee2b4d2f",
   "metadata": {},
   "source": [
    "## 4.5 Naive Bayes"
   ]
  },
  {
   "cell_type": "code",
   "execution_count": 98,
   "id": "6841c48f",
   "metadata": {},
   "outputs": [
    {
     "data": {
      "text/plain": [
       "array([1, 1, 0, 0, 0, 0, 0, 1, 1, 0, 0, 0, 0, 0, 0, 1, 0, 1, 0, 1, 1, 0,\n",
       "       1, 0, 0, 0, 1, 1, 0, 1, 0, 1, 1, 1, 0, 0, 1, 0, 1, 1, 0, 1, 1, 0,\n",
       "       0, 1, 0, 1, 0, 1, 0, 0, 0, 1, 0, 1, 1, 0, 0, 1, 0, 0, 0, 1, 0, 0,\n",
       "       1, 1, 0, 0, 1, 0, 0, 0, 1, 1, 0, 0, 1, 1, 1, 1, 0, 1, 0, 1, 0, 0,\n",
       "       1, 0, 0, 1, 0, 0, 0, 0, 1, 1, 0, 1, 0, 0, 1, 0, 1, 0, 0, 0, 1, 0,\n",
       "       1, 1, 1, 0, 0, 0, 1, 0, 0, 0, 1, 1, 0, 0, 0, 0, 1, 0, 1, 0, 0, 0,\n",
       "       1, 1, 1, 0, 0], dtype=int64)"
      ]
     },
     "execution_count": 98,
     "metadata": {},
     "output_type": "execute_result"
    }
   ],
   "source": [
    "from sklearn.naive_bayes import GaussianNB\n",
    "\n",
    "Gnb = GaussianNB() \n",
    "Gnb.fit(x_train, y_train) \n",
    "\n",
    "Gnb_predictions = Gnb.predict(x_test)\n",
    "Gnb_predictions"
   ]
  },
  {
   "cell_type": "code",
   "execution_count": 99,
   "id": "64f96c73",
   "metadata": {},
   "outputs": [
    {
     "name": "stdout",
     "output_type": "stream",
     "text": [
      "Accuracy score: 95.62043795620438\n"
     ]
    }
   ],
   "source": [
    "Gnb_acc = accuracy_score(y_test,Gnb_predictions)*100\n",
    "\n",
    "print(\"Accuracy score:\",Gnb_acc)"
   ]
  },
  {
   "cell_type": "markdown",
   "id": "75ddb4cd",
   "metadata": {},
   "source": [
    "## 5. Comparing results of classifiers"
   ]
  },
  {
   "cell_type": "markdown",
   "id": "6113b970",
   "metadata": {},
   "source": [
    "### 5.1 Comparing visually"
   ]
  },
  {
   "cell_type": "code",
   "execution_count": 100,
   "id": "725375f5",
   "metadata": {},
   "outputs": [
    {
     "data": {
      "image/png": "[encoded data removed]",
      "text/plain": [
       "<Figure size 720x360 with 1 Axes>"
      ]
     },
     "metadata": {
      "needs_background": "light"
     },
     "output_type": "display_data"
    }
   ],
   "source": [
    "# creating list with results\n",
    "acc_results ={\"Random Forest\": ranf_acc,\n",
    "            \"Decision Tree\": dect_acc,\n",
    "            \"KNN\": knn_acc,\n",
    "            \"Naive Bayes\": Gnb_acc}\n",
    "# setting the size of the size of the graph\n",
    "plt.figure(figsize=(10,5))\n",
    "# plotting the results in bar form\n",
    "plt.bar(acc_results.keys(),acc_results.values(),label=\"Accuracy result\")\n",
    "# x-axis label\n",
    "plt.xlabel(\"Classifier\")\n",
    "# y-axis label\n",
    "plt.ylabel(\"Accuracy (%)\")\n",
    "# y-axis range\n",
    "plt.ylim(90,100)\n",
    "plt.legend()\n",
    "plt.show()\n"
   ]
  },
  {
   "cell_type": "markdown",
   "id": "94f93cd7",
   "metadata": {},
   "source": [
    "### 5.2 Comparing Results"
   ]
  },
  {
   "cell_type": "markdown",
   "id": "bf79b7fd",
   "metadata": {},
   "source": [
    "The most accurate from the machine learning classifiers was Naive Baye. The results were very close overall with each classifer getting over 90%. Decision Tree had the lowest accuracy score which was 93.43%. In the comparsion to the literature the accuracy score Decision Tree was much lower probably due to the fact that the data scientist did more speciific data classifying before running their algorithm.\n",
    "\n",
    "For this dataset, Naive Bayes would be able to pick on the patterns easily and it is known for allowing multiple classes of classification. So it would be able to make generalisations when the data is set and will not be changed. As expected the Decision Tree classifier was the worst performing as it requires more processing power as it needs to continuously split the data to make the classification.\n",
    "\n",
    "Random Forest performed better than Decision Tree and KNN as it is a collection a Decision Trees taking the majority vote so it is quicker to make predictions.  "
   ]
  },
  {
   "cell_type": "code",
   "execution_count": null,
   "id": "fb41aff4",
   "metadata": {},
   "outputs": [],
   "source": []
  }
 ],
 "metadata": {
  "kernelspec": {
   "display_name": "Python 3 (ipykernel)",
   "language": "python",
   "name": "python3"
  },
  "language_info": {
   "codemirror_mode": {
    "name": "ipython",
    "version": 3
   },
   "file_extension": ".py",
   "mimetype": "text/x-python",
   "name": "python",
   "nbconvert_exporter": "python",
   "pygments_lexer": "ipython3",
   "version": "3.9.7"
  },
  "toc": {
   "base_numbering": 1,
   "nav_menu": {},
   "number_sections": false,
   "sideBar": true,
   "skip_h1_title": false,
   "title_cell": "Table of Contents",
   "title_sidebar": "Contents",
   "toc_cell": true,
   "toc_position": {
    "height": "calc(100% - 180px)",
    "left": "10px",
    "top": "150px",
    "width": "297.882px"
   },
   "toc_section_display": true,
   "toc_window_display": false
  }
 },
 "nbformat": 4,
 "nbformat_minor": 5
}
