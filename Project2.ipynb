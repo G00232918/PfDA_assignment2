{
 "cells": [
  {
   "cell_type": "markdown",
   "id": "b60d5498",
   "metadata": {},
   "source": [
    "# Data analysis of the Wisconsin Breast Cancer Original Dataset"
   ]
  },
  {
   "cell_type": "markdown",
   "id": "c64d3514",
   "metadata": {
    "toc": true
   },
   "source": [
    "<h1>Table of Contents<span class=\"tocSkip\"></span></h1>\n",
    "<div class=\"toc\"><ul class=\"toc-item\"><li><span><a href=\"#Data-analysis-of-the-Wisconsin-Breast-Cancer-Original-Dataset\" data-toc-modified-id=\"Data-analysis-of-the-Wisconsin-Breast-Cancer-Original-Dataset-1\">Data analysis of the Wisconsin Breast Cancer Original Dataset</a></span><ul class=\"toc-item\"><li><span><a href=\"#1.-Overview-and-Background\" data-toc-modified-id=\"1.-Overview-and-Background-1.1\">1. Overview and Background</a></span></li><li><span><a href=\"#2.-Review-of-Classifiers-and-Performance\" data-toc-modified-id=\"2.-Review-of-Classifiers-and-Performance-1.2\">2. Review of Classifiers and Performance</a></span><ul class=\"toc-item\"><li><ul class=\"toc-item\"><li><span><a href=\"#The-following-diagram-explains-how-Random-Forest-works--\" data-toc-modified-id=\"The-following-diagram-explains-how-Random-Forest-works---1.2.0.1\">The following diagram explains how Random Forest works -</a></span></li></ul></li></ul></li><li><span><a href=\"#3.-Classifier-to-be-applied\" data-toc-modified-id=\"3.-Classifier-to-be-applied-1.3\">3. Classifier to be applied</a></span></li><li><span><a href=\"#4.-Statistical-Analysis\" data-toc-modified-id=\"4.-Statistical-Analysis-1.4\">4. Statistical Analysis</a></span></li></ul></li><li><span><a href=\"#5.-Machine-Learning---KNN\" data-toc-modified-id=\"5.-Machine-Learning---KNN-2\">5. Machine Learning - KNN</a></span><ul class=\"toc-item\"><li><ul class=\"toc-item\"><li><span><a href=\"#5.1-Setting-the-target\" data-toc-modified-id=\"5.1-Setting-the-target-2.0.1\">5.1 Setting the target</a></span></li></ul></li></ul></li></ul></div>"
   ]
  },
  {
   "cell_type": "markdown",
   "id": "52eedb9e",
   "metadata": {},
   "source": [
    "## 1. Overview and Background"
   ]
  },
  {
   "cell_type": "markdown",
   "id": "d64e607d",
   "metadata": {},
   "source": [
    "The following analysis is of the Wisconsin Cancer Original Dataset. In the dataset there is 9 attributes that are used to be classfied in Diagnosis column which are beneign or malignent. In the context of this dataset beniegn is where the tumour will have no harmful effect on patient and the malignent means there is harmful.\n",
    "\n",
    "According the description of the dataset is from different timings and can be separated into the following groups:\n",
    "- Group 1: 367 instances (January 1989)\n",
    "- Group 2:  70 instances (October 1989)\n",
    "- Group 3:  31 instances (February 1990)\n",
    "- Group 4:  17 instances (April 1990)\n",
    "- Group 5:  48 instances (August 1990)\n",
    "- Group 6:  49 instances (Updated January 1991)\n",
    "- Group 7:  31 instances (June 1991)\n",
    "- Group 8:  86 instances (November 1991)\n",
    "- Total:   699 points (as of the donated datbase on 15 July 1992)\n",
    "\n",
    "\n",
    "The attributes that contribute to the classifiers mentioning in the opening lines are the following and are scored in the domain of 1-10:\n",
    "\n",
    "Attribute                     Domain\n",
    "1. Sample code number            id number\n",
    "2. Clump Thickness               1 - 10\n",
    "3. Uniformity of Cell Size       1 - 10\n",
    "4. Uniformity of Cell Shape      1 - 10\n",
    "5. Marginal Adhesion             1 - 10\n",
    "6. Single Epithelial Cell Size   1 - 10\n",
    "7. Bare Nuclei                   1 - 10\n",
    "8. Bland Chromatin               1 - 10\n",
    "9. Normal Nucleoli               1 - 10\n",
    "10. Mitoses                       1 - 10\n",
    "11. Class:                        (2 for benign, 4 for malignent)\n",
    "\n",
    "This is the context of the dataset that will be reviewed and analysed in the project."
   ]
  },
  {
   "cell_type": "code",
   "execution_count": 18,
   "id": "0a8e30e9",
   "metadata": {},
   "outputs": [],
   "source": [
    "# imports to be used\n",
    "\n",
    "import numpy as np\n",
    "import pandas as pd\n",
    "import matplotlib.pyplot as plt\n",
    "import seaborn as sns"
   ]
  },
  {
   "cell_type": "code",
   "execution_count": 2,
   "id": "0f314a96",
   "metadata": {},
   "outputs": [],
   "source": [
    "# load in the dataset\n",
    "# headers in the excel are as follows \n",
    "# id,\"clump_thickness\",\"size_uniformity\",\"shape_uniformity\",\"marginal_adhesion\",\"epithelial_size\",\n",
    "#\"bare_nucleoli\",\"bland_chromatin\",\"normal_nucleoli\",\"mitoses\",\"class\"\n",
    "\n",
    "# Set the headers in shorter version\n",
    "# remove the the longer format with header=None\n",
    "headers = [\"ID\",\"CT\",\"UCSize\",\"UCShape\",\"MA\",\"SECSize\",\"BN\",\"BC\",\"NN\",\"Mitoses\",\"Diagnosis\"]\n",
    "data = pd.read_csv('data\\Wisconsin_breast_cancer_data.csv',    \n",
    "         header=None, index_col=['ID'], names = headers)"
   ]
  },
  {
   "cell_type": "code",
   "execution_count": 3,
   "id": "e267c5dc",
   "metadata": {},
   "outputs": [
    {
     "data": {
      "text/plain": [
       "(699, 10)"
      ]
     },
     "execution_count": 3,
     "metadata": {},
     "output_type": "execute_result"
    }
   ],
   "source": [
    "# View the shape of the dataset\n",
    "data.shape"
   ]
  },
  {
   "cell_type": "code",
   "execution_count": 4,
   "id": "2d21c8e5",
   "metadata": {},
   "outputs": [
    {
     "data": {
      "text/plain": [
       "CT           0\n",
       "UCSize       0\n",
       "UCShape      0\n",
       "MA           0\n",
       "SECSize      0\n",
       "BN           0\n",
       "BC           0\n",
       "NN           0\n",
       "Mitoses      0\n",
       "Diagnosis    0\n",
       "dtype: int64"
      ]
     },
     "execution_count": 4,
     "metadata": {},
     "output_type": "execute_result"
    }
   ],
   "source": [
    "# check if there is any null values in the columns.\n",
    "data.isnull().sum()"
   ]
  },
  {
   "cell_type": "code",
   "execution_count": 5,
   "id": "3f914b0f",
   "metadata": {},
   "outputs": [
    {
     "data": {
      "text/html": [
       "<div>\n",
       "<style scoped>\n",
       "    .dataframe tbody tr th:only-of-type {\n",
       "        vertical-align: middle;\n",
       "    }\n",
       "\n",
       "    .dataframe tbody tr th {\n",
       "        vertical-align: top;\n",
       "    }\n",
       "\n",
       "    .dataframe thead th {\n",
       "        text-align: right;\n",
       "    }\n",
       "</style>\n",
       "<table border=\"1\" class=\"dataframe\">\n",
       "  <thead>\n",
       "    <tr style=\"text-align: right;\">\n",
       "      <th></th>\n",
       "      <th>CT</th>\n",
       "      <th>UCSize</th>\n",
       "      <th>UCShape</th>\n",
       "      <th>MA</th>\n",
       "      <th>SECSize</th>\n",
       "      <th>BN</th>\n",
       "      <th>BC</th>\n",
       "      <th>NN</th>\n",
       "      <th>Mitoses</th>\n",
       "      <th>Diagnosis</th>\n",
       "    </tr>\n",
       "    <tr>\n",
       "      <th>ID</th>\n",
       "      <th></th>\n",
       "      <th></th>\n",
       "      <th></th>\n",
       "      <th></th>\n",
       "      <th></th>\n",
       "      <th></th>\n",
       "      <th></th>\n",
       "      <th></th>\n",
       "      <th></th>\n",
       "      <th></th>\n",
       "    </tr>\n",
       "  </thead>\n",
       "  <tbody>\n",
       "    <tr>\n",
       "      <th>1000025</th>\n",
       "      <td>5</td>\n",
       "      <td>1</td>\n",
       "      <td>1</td>\n",
       "      <td>1</td>\n",
       "      <td>2</td>\n",
       "      <td>1</td>\n",
       "      <td>3</td>\n",
       "      <td>1</td>\n",
       "      <td>1</td>\n",
       "      <td>2</td>\n",
       "    </tr>\n",
       "    <tr>\n",
       "      <th>1002945</th>\n",
       "      <td>5</td>\n",
       "      <td>4</td>\n",
       "      <td>4</td>\n",
       "      <td>5</td>\n",
       "      <td>7</td>\n",
       "      <td>10</td>\n",
       "      <td>3</td>\n",
       "      <td>2</td>\n",
       "      <td>1</td>\n",
       "      <td>2</td>\n",
       "    </tr>\n",
       "    <tr>\n",
       "      <th>1015425</th>\n",
       "      <td>3</td>\n",
       "      <td>1</td>\n",
       "      <td>1</td>\n",
       "      <td>1</td>\n",
       "      <td>2</td>\n",
       "      <td>2</td>\n",
       "      <td>3</td>\n",
       "      <td>1</td>\n",
       "      <td>1</td>\n",
       "      <td>2</td>\n",
       "    </tr>\n",
       "    <tr>\n",
       "      <th>1016277</th>\n",
       "      <td>6</td>\n",
       "      <td>8</td>\n",
       "      <td>8</td>\n",
       "      <td>1</td>\n",
       "      <td>3</td>\n",
       "      <td>4</td>\n",
       "      <td>3</td>\n",
       "      <td>7</td>\n",
       "      <td>1</td>\n",
       "      <td>2</td>\n",
       "    </tr>\n",
       "    <tr>\n",
       "      <th>1017023</th>\n",
       "      <td>4</td>\n",
       "      <td>1</td>\n",
       "      <td>1</td>\n",
       "      <td>3</td>\n",
       "      <td>2</td>\n",
       "      <td>1</td>\n",
       "      <td>3</td>\n",
       "      <td>1</td>\n",
       "      <td>1</td>\n",
       "      <td>2</td>\n",
       "    </tr>\n",
       "    <tr>\n",
       "      <th>1017122</th>\n",
       "      <td>8</td>\n",
       "      <td>10</td>\n",
       "      <td>10</td>\n",
       "      <td>8</td>\n",
       "      <td>7</td>\n",
       "      <td>10</td>\n",
       "      <td>9</td>\n",
       "      <td>7</td>\n",
       "      <td>1</td>\n",
       "      <td>4</td>\n",
       "    </tr>\n",
       "    <tr>\n",
       "      <th>1018099</th>\n",
       "      <td>1</td>\n",
       "      <td>1</td>\n",
       "      <td>1</td>\n",
       "      <td>1</td>\n",
       "      <td>2</td>\n",
       "      <td>10</td>\n",
       "      <td>3</td>\n",
       "      <td>1</td>\n",
       "      <td>1</td>\n",
       "      <td>2</td>\n",
       "    </tr>\n",
       "    <tr>\n",
       "      <th>1018561</th>\n",
       "      <td>2</td>\n",
       "      <td>1</td>\n",
       "      <td>2</td>\n",
       "      <td>1</td>\n",
       "      <td>2</td>\n",
       "      <td>1</td>\n",
       "      <td>3</td>\n",
       "      <td>1</td>\n",
       "      <td>1</td>\n",
       "      <td>2</td>\n",
       "    </tr>\n",
       "    <tr>\n",
       "      <th>1033078</th>\n",
       "      <td>2</td>\n",
       "      <td>1</td>\n",
       "      <td>1</td>\n",
       "      <td>1</td>\n",
       "      <td>2</td>\n",
       "      <td>1</td>\n",
       "      <td>1</td>\n",
       "      <td>1</td>\n",
       "      <td>5</td>\n",
       "      <td>2</td>\n",
       "    </tr>\n",
       "    <tr>\n",
       "      <th>1033078</th>\n",
       "      <td>4</td>\n",
       "      <td>2</td>\n",
       "      <td>1</td>\n",
       "      <td>1</td>\n",
       "      <td>2</td>\n",
       "      <td>1</td>\n",
       "      <td>2</td>\n",
       "      <td>1</td>\n",
       "      <td>1</td>\n",
       "      <td>2</td>\n",
       "    </tr>\n",
       "  </tbody>\n",
       "</table>\n",
       "</div>"
      ],
      "text/plain": [
       "         CT  UCSize  UCShape  MA  SECSize  BN  BC  NN  Mitoses  Diagnosis\n",
       "ID                                                                       \n",
       "1000025   5       1        1   1        2   1   3   1        1          2\n",
       "1002945   5       4        4   5        7  10   3   2        1          2\n",
       "1015425   3       1        1   1        2   2   3   1        1          2\n",
       "1016277   6       8        8   1        3   4   3   7        1          2\n",
       "1017023   4       1        1   3        2   1   3   1        1          2\n",
       "1017122   8      10       10   8        7  10   9   7        1          4\n",
       "1018099   1       1        1   1        2  10   3   1        1          2\n",
       "1018561   2       1        2   1        2   1   3   1        1          2\n",
       "1033078   2       1        1   1        2   1   1   1        5          2\n",
       "1033078   4       2        1   1        2   1   2   1        1          2"
      ]
     },
     "execution_count": 5,
     "metadata": {},
     "output_type": "execute_result"
    }
   ],
   "source": [
    "# check that the data is correct\n",
    "data.head(10)"
   ]
  },
  {
   "cell_type": "code",
   "execution_count": 6,
   "id": "f22cf53b",
   "metadata": {},
   "outputs": [
    {
     "data": {
      "text/html": [
       "<div>\n",
       "<style scoped>\n",
       "    .dataframe tbody tr th:only-of-type {\n",
       "        vertical-align: middle;\n",
       "    }\n",
       "\n",
       "    .dataframe tbody tr th {\n",
       "        vertical-align: top;\n",
       "    }\n",
       "\n",
       "    .dataframe thead th {\n",
       "        text-align: right;\n",
       "    }\n",
       "</style>\n",
       "<table border=\"1\" class=\"dataframe\">\n",
       "  <thead>\n",
       "    <tr style=\"text-align: right;\">\n",
       "      <th></th>\n",
       "      <th>CT</th>\n",
       "      <th>UCSize</th>\n",
       "      <th>UCShape</th>\n",
       "      <th>MA</th>\n",
       "      <th>SECSize</th>\n",
       "      <th>BN</th>\n",
       "      <th>BC</th>\n",
       "      <th>NN</th>\n",
       "      <th>Mitoses</th>\n",
       "      <th>Diagnosis</th>\n",
       "    </tr>\n",
       "    <tr>\n",
       "      <th>ID</th>\n",
       "      <th></th>\n",
       "      <th></th>\n",
       "      <th></th>\n",
       "      <th></th>\n",
       "      <th></th>\n",
       "      <th></th>\n",
       "      <th></th>\n",
       "      <th></th>\n",
       "      <th></th>\n",
       "      <th></th>\n",
       "    </tr>\n",
       "  </thead>\n",
       "  <tbody>\n",
       "    <tr>\n",
       "      <th>654546</th>\n",
       "      <td>1</td>\n",
       "      <td>1</td>\n",
       "      <td>1</td>\n",
       "      <td>1</td>\n",
       "      <td>2</td>\n",
       "      <td>1</td>\n",
       "      <td>1</td>\n",
       "      <td>1</td>\n",
       "      <td>8</td>\n",
       "      <td>2</td>\n",
       "    </tr>\n",
       "    <tr>\n",
       "      <th>654546</th>\n",
       "      <td>1</td>\n",
       "      <td>1</td>\n",
       "      <td>1</td>\n",
       "      <td>3</td>\n",
       "      <td>2</td>\n",
       "      <td>1</td>\n",
       "      <td>1</td>\n",
       "      <td>1</td>\n",
       "      <td>1</td>\n",
       "      <td>2</td>\n",
       "    </tr>\n",
       "    <tr>\n",
       "      <th>695091</th>\n",
       "      <td>5</td>\n",
       "      <td>10</td>\n",
       "      <td>10</td>\n",
       "      <td>5</td>\n",
       "      <td>4</td>\n",
       "      <td>5</td>\n",
       "      <td>4</td>\n",
       "      <td>4</td>\n",
       "      <td>1</td>\n",
       "      <td>4</td>\n",
       "    </tr>\n",
       "    <tr>\n",
       "      <th>714039</th>\n",
       "      <td>3</td>\n",
       "      <td>1</td>\n",
       "      <td>1</td>\n",
       "      <td>1</td>\n",
       "      <td>2</td>\n",
       "      <td>1</td>\n",
       "      <td>1</td>\n",
       "      <td>1</td>\n",
       "      <td>1</td>\n",
       "      <td>2</td>\n",
       "    </tr>\n",
       "    <tr>\n",
       "      <th>763235</th>\n",
       "      <td>3</td>\n",
       "      <td>1</td>\n",
       "      <td>1</td>\n",
       "      <td>1</td>\n",
       "      <td>2</td>\n",
       "      <td>1</td>\n",
       "      <td>2</td>\n",
       "      <td>1</td>\n",
       "      <td>2</td>\n",
       "      <td>2</td>\n",
       "    </tr>\n",
       "    <tr>\n",
       "      <th>776715</th>\n",
       "      <td>3</td>\n",
       "      <td>1</td>\n",
       "      <td>1</td>\n",
       "      <td>1</td>\n",
       "      <td>3</td>\n",
       "      <td>2</td>\n",
       "      <td>1</td>\n",
       "      <td>1</td>\n",
       "      <td>1</td>\n",
       "      <td>2</td>\n",
       "    </tr>\n",
       "    <tr>\n",
       "      <th>841769</th>\n",
       "      <td>2</td>\n",
       "      <td>1</td>\n",
       "      <td>1</td>\n",
       "      <td>1</td>\n",
       "      <td>2</td>\n",
       "      <td>1</td>\n",
       "      <td>1</td>\n",
       "      <td>1</td>\n",
       "      <td>1</td>\n",
       "      <td>2</td>\n",
       "    </tr>\n",
       "    <tr>\n",
       "      <th>888820</th>\n",
       "      <td>5</td>\n",
       "      <td>10</td>\n",
       "      <td>10</td>\n",
       "      <td>3</td>\n",
       "      <td>7</td>\n",
       "      <td>3</td>\n",
       "      <td>8</td>\n",
       "      <td>10</td>\n",
       "      <td>2</td>\n",
       "      <td>4</td>\n",
       "    </tr>\n",
       "    <tr>\n",
       "      <th>897471</th>\n",
       "      <td>4</td>\n",
       "      <td>8</td>\n",
       "      <td>6</td>\n",
       "      <td>4</td>\n",
       "      <td>3</td>\n",
       "      <td>4</td>\n",
       "      <td>10</td>\n",
       "      <td>6</td>\n",
       "      <td>1</td>\n",
       "      <td>4</td>\n",
       "    </tr>\n",
       "    <tr>\n",
       "      <th>897471</th>\n",
       "      <td>4</td>\n",
       "      <td>8</td>\n",
       "      <td>8</td>\n",
       "      <td>5</td>\n",
       "      <td>4</td>\n",
       "      <td>5</td>\n",
       "      <td>10</td>\n",
       "      <td>4</td>\n",
       "      <td>1</td>\n",
       "      <td>4</td>\n",
       "    </tr>\n",
       "  </tbody>\n",
       "</table>\n",
       "</div>"
      ],
      "text/plain": [
       "        CT  UCSize  UCShape  MA  SECSize BN  BC  NN  Mitoses  Diagnosis\n",
       "ID                                                                     \n",
       "654546   1       1        1   1        2  1   1   1        8          2\n",
       "654546   1       1        1   3        2  1   1   1        1          2\n",
       "695091   5      10       10   5        4  5   4   4        1          4\n",
       "714039   3       1        1   1        2  1   1   1        1          2\n",
       "763235   3       1        1   1        2  1   2   1        2          2\n",
       "776715   3       1        1   1        3  2   1   1        1          2\n",
       "841769   2       1        1   1        2  1   1   1        1          2\n",
       "888820   5      10       10   3        7  3   8  10        2          4\n",
       "897471   4       8        6   4        3  4  10   6        1          4\n",
       "897471   4       8        8   5        4  5  10   4        1          4"
      ]
     },
     "execution_count": 6,
     "metadata": {},
     "output_type": "execute_result"
    }
   ],
   "source": [
    "# check the end rows to ensure the dataset matches\n",
    "data.tail(10)"
   ]
  },
  {
   "cell_type": "code",
   "execution_count": 7,
   "id": "cd03006b",
   "metadata": {},
   "outputs": [
    {
     "data": {
      "text/plain": [
       "CT            int64\n",
       "UCSize        int64\n",
       "UCShape       int64\n",
       "MA            int64\n",
       "SECSize       int64\n",
       "BN           object\n",
       "BC            int64\n",
       "NN            int64\n",
       "Mitoses       int64\n",
       "Diagnosis     int64\n",
       "dtype: object"
      ]
     },
     "execution_count": 7,
     "metadata": {},
     "output_type": "execute_result"
    }
   ],
   "source": [
    "# check the datatypes\n",
    "data.dtypes"
   ]
  },
  {
   "cell_type": "code",
   "execution_count": 8,
   "id": "7ba576c3",
   "metadata": {},
   "outputs": [],
   "source": [
    "# Bare Nuclei field should be an integer field. According to the dtypes command it is an object so I am going to change\n",
    "# incase there is any issues later on in the data analysis\n",
    "data['BN'] = pd.to_numeric(data['BN'], errors='coerce')"
   ]
  },
  {
   "cell_type": "code",
   "execution_count": 9,
   "id": "70a1a155",
   "metadata": {},
   "outputs": [
    {
     "name": "stdout",
     "output_type": "stream",
     "text": [
      "1     145\n",
      "5     130\n",
      "3     108\n",
      "4      80\n",
      "10     69\n",
      "2      50\n",
      "8      46\n",
      "6      34\n",
      "7      23\n",
      "9      14\n",
      "Name: CT, dtype: int64\n",
      "1     384\n",
      "10     67\n",
      "3      52\n",
      "2      45\n",
      "4      40\n",
      "5      30\n",
      "8      29\n",
      "6      27\n",
      "7      19\n",
      "9       6\n",
      "Name: UCSize, dtype: int64\n",
      "1     353\n",
      "2      59\n",
      "10     58\n",
      "3      56\n",
      "4      44\n",
      "5      34\n",
      "6      30\n",
      "7      30\n",
      "8      28\n",
      "9       7\n",
      "Name: UCShape, dtype: int64\n",
      "1     407\n",
      "3      58\n",
      "2      58\n",
      "10     55\n",
      "4      33\n",
      "8      25\n",
      "5      23\n",
      "6      22\n",
      "7      13\n",
      "9       5\n",
      "Name: MA, dtype: int64\n",
      "2     386\n",
      "3      72\n",
      "4      48\n",
      "1      47\n",
      "6      41\n",
      "5      39\n",
      "10     31\n",
      "8      21\n",
      "7      12\n",
      "9       2\n",
      "Name: SECSize, dtype: int64\n",
      "1.0     402\n",
      "10.0    132\n",
      "2.0      30\n",
      "5.0      30\n",
      "3.0      28\n",
      "8.0      21\n",
      "4.0      19\n",
      "9.0       9\n",
      "7.0       8\n",
      "6.0       4\n",
      "Name: BN, dtype: int64\n",
      "2     166\n",
      "3     165\n",
      "1     152\n",
      "7      73\n",
      "4      40\n",
      "5      34\n",
      "8      28\n",
      "10     20\n",
      "9      11\n",
      "6      10\n",
      "Name: BC, dtype: int64\n",
      "1     443\n",
      "10     61\n",
      "3      44\n",
      "2      36\n",
      "8      24\n",
      "6      22\n",
      "5      19\n",
      "4      18\n",
      "7      16\n",
      "9      16\n",
      "Name: NN, dtype: int64\n",
      "1     579\n",
      "2      35\n",
      "3      33\n",
      "10     14\n",
      "4      12\n",
      "7       9\n",
      "8       8\n",
      "5       6\n",
      "6       3\n",
      "Name: Mitoses, dtype: int64\n",
      "2    458\n",
      "4    241\n",
      "Name: Diagnosis, dtype: int64\n"
     ]
    }
   ],
   "source": [
    "# Get the count of each value within each column\n",
    "for var in data.columns:\n",
    "    \n",
    "    print(data[var].value_counts())"
   ]
  },
  {
   "cell_type": "code",
   "execution_count": 10,
   "id": "e9468346",
   "metadata": {},
   "outputs": [
    {
     "data": {
      "text/html": [
       "<div>\n",
       "<style scoped>\n",
       "    .dataframe tbody tr th:only-of-type {\n",
       "        vertical-align: middle;\n",
       "    }\n",
       "\n",
       "    .dataframe tbody tr th {\n",
       "        vertical-align: top;\n",
       "    }\n",
       "\n",
       "    .dataframe thead th {\n",
       "        text-align: right;\n",
       "    }\n",
       "</style>\n",
       "<table border=\"1\" class=\"dataframe\">\n",
       "  <thead>\n",
       "    <tr style=\"text-align: right;\">\n",
       "      <th></th>\n",
       "      <th>CT</th>\n",
       "      <th>UCSize</th>\n",
       "      <th>UCShape</th>\n",
       "      <th>MA</th>\n",
       "      <th>SECSize</th>\n",
       "      <th>BN</th>\n",
       "      <th>BC</th>\n",
       "      <th>NN</th>\n",
       "      <th>Mitoses</th>\n",
       "      <th>Diagnosis</th>\n",
       "    </tr>\n",
       "  </thead>\n",
       "  <tbody>\n",
       "    <tr>\n",
       "      <th>count</th>\n",
       "      <td>699.000000</td>\n",
       "      <td>699.000000</td>\n",
       "      <td>699.000000</td>\n",
       "      <td>699.000000</td>\n",
       "      <td>699.000000</td>\n",
       "      <td>683.000000</td>\n",
       "      <td>699.000000</td>\n",
       "      <td>699.000000</td>\n",
       "      <td>699.000000</td>\n",
       "      <td>699.000000</td>\n",
       "    </tr>\n",
       "    <tr>\n",
       "      <th>mean</th>\n",
       "      <td>4.417740</td>\n",
       "      <td>3.134478</td>\n",
       "      <td>3.207439</td>\n",
       "      <td>2.806867</td>\n",
       "      <td>3.216023</td>\n",
       "      <td>3.544656</td>\n",
       "      <td>3.437768</td>\n",
       "      <td>2.866953</td>\n",
       "      <td>1.589413</td>\n",
       "      <td>2.689557</td>\n",
       "    </tr>\n",
       "    <tr>\n",
       "      <th>std</th>\n",
       "      <td>2.815741</td>\n",
       "      <td>3.051459</td>\n",
       "      <td>2.971913</td>\n",
       "      <td>2.855379</td>\n",
       "      <td>2.214300</td>\n",
       "      <td>3.643857</td>\n",
       "      <td>2.438364</td>\n",
       "      <td>3.053634</td>\n",
       "      <td>1.715078</td>\n",
       "      <td>0.951273</td>\n",
       "    </tr>\n",
       "    <tr>\n",
       "      <th>min</th>\n",
       "      <td>1.000000</td>\n",
       "      <td>1.000000</td>\n",
       "      <td>1.000000</td>\n",
       "      <td>1.000000</td>\n",
       "      <td>1.000000</td>\n",
       "      <td>1.000000</td>\n",
       "      <td>1.000000</td>\n",
       "      <td>1.000000</td>\n",
       "      <td>1.000000</td>\n",
       "      <td>2.000000</td>\n",
       "    </tr>\n",
       "    <tr>\n",
       "      <th>25%</th>\n",
       "      <td>2.000000</td>\n",
       "      <td>1.000000</td>\n",
       "      <td>1.000000</td>\n",
       "      <td>1.000000</td>\n",
       "      <td>2.000000</td>\n",
       "      <td>1.000000</td>\n",
       "      <td>2.000000</td>\n",
       "      <td>1.000000</td>\n",
       "      <td>1.000000</td>\n",
       "      <td>2.000000</td>\n",
       "    </tr>\n",
       "    <tr>\n",
       "      <th>50%</th>\n",
       "      <td>4.000000</td>\n",
       "      <td>1.000000</td>\n",
       "      <td>1.000000</td>\n",
       "      <td>1.000000</td>\n",
       "      <td>2.000000</td>\n",
       "      <td>1.000000</td>\n",
       "      <td>3.000000</td>\n",
       "      <td>1.000000</td>\n",
       "      <td>1.000000</td>\n",
       "      <td>2.000000</td>\n",
       "    </tr>\n",
       "    <tr>\n",
       "      <th>75%</th>\n",
       "      <td>6.000000</td>\n",
       "      <td>5.000000</td>\n",
       "      <td>5.000000</td>\n",
       "      <td>4.000000</td>\n",
       "      <td>4.000000</td>\n",
       "      <td>6.000000</td>\n",
       "      <td>5.000000</td>\n",
       "      <td>4.000000</td>\n",
       "      <td>1.000000</td>\n",
       "      <td>4.000000</td>\n",
       "    </tr>\n",
       "    <tr>\n",
       "      <th>max</th>\n",
       "      <td>10.000000</td>\n",
       "      <td>10.000000</td>\n",
       "      <td>10.000000</td>\n",
       "      <td>10.000000</td>\n",
       "      <td>10.000000</td>\n",
       "      <td>10.000000</td>\n",
       "      <td>10.000000</td>\n",
       "      <td>10.000000</td>\n",
       "      <td>10.000000</td>\n",
       "      <td>4.000000</td>\n",
       "    </tr>\n",
       "  </tbody>\n",
       "</table>\n",
       "</div>"
      ],
      "text/plain": [
       "               CT      UCSize     UCShape          MA     SECSize          BN  \\\n",
       "count  699.000000  699.000000  699.000000  699.000000  699.000000  683.000000   \n",
       "mean     4.417740    3.134478    3.207439    2.806867    3.216023    3.544656   \n",
       "std      2.815741    3.051459    2.971913    2.855379    2.214300    3.643857   \n",
       "min      1.000000    1.000000    1.000000    1.000000    1.000000    1.000000   \n",
       "25%      2.000000    1.000000    1.000000    1.000000    2.000000    1.000000   \n",
       "50%      4.000000    1.000000    1.000000    1.000000    2.000000    1.000000   \n",
       "75%      6.000000    5.000000    5.000000    4.000000    4.000000    6.000000   \n",
       "max     10.000000   10.000000   10.000000   10.000000   10.000000   10.000000   \n",
       "\n",
       "               BC          NN     Mitoses   Diagnosis  \n",
       "count  699.000000  699.000000  699.000000  699.000000  \n",
       "mean     3.437768    2.866953    1.589413    2.689557  \n",
       "std      2.438364    3.053634    1.715078    0.951273  \n",
       "min      1.000000    1.000000    1.000000    2.000000  \n",
       "25%      2.000000    1.000000    1.000000    2.000000  \n",
       "50%      3.000000    1.000000    1.000000    2.000000  \n",
       "75%      5.000000    4.000000    1.000000    4.000000  \n",
       "max     10.000000   10.000000   10.000000    4.000000  "
      ]
     },
     "execution_count": 10,
     "metadata": {},
     "output_type": "execute_result"
    }
   ],
   "source": [
    "# Transpose the data\n",
    "data.describe()"
   ]
  },
  {
   "cell_type": "markdown",
   "id": "f42109c3",
   "metadata": {},
   "source": [
    "## 2. Review of Classifiers and Performance"
   ]
  },
  {
   "cell_type": "markdown",
   "id": "a66c39a5",
   "metadata": {},
   "source": [
    "For the dataset the Diagnosis column will be the classifier. There will be 2 classes which are Beneign and Malignent. Firstly I will review two classifier methods used in a study conducted in the University of Surrey, Guildford, in the UK. In this study, two ensemble ML classifier: eXtreme Gradient Boosting (XGBoost) and Random Forest (RF) classifiers are used to test the Wisconsin Breast Cancer dataset(An Evaluation of the WBDC).\n",
    "\n",
    "XG boost is a decision-tee based Machine Learning algorithm which used a gradient boosting framework. So the XGboost is a more powerful version gradient boosting as both use Decision Trees which are made up of binary questions and the final predictions happen at the leaf. (Wikipedia)\n",
    "\n",
    "Boosting is to attempt to build a strong classifier from a number of weak classifiers. With booosting it begins by building the first made which is from the training data. Then from this first model, the second model is built by correcting the errors . This procedure is continued in the complete training data is predicted correctly.\n",
    "\n",
    "XG boost uses Cross-Validation as its evaluation process. In this process it estimates the unseen data by generating many non-overlapping train/test splits into training data and reporting the average test set performance across all data splits. (towardsdatascience) \n",
    "\n",
    "XG Boost is ususing used on larger datasets that have more than 1000 training samples, that have less than 100 features. So really compared to the Gradient Boosting, its main difference is that it can work quicker through larger datasets."
   ]
  },
  {
   "attachments": {
    "XGBoost.png": {
     "image/png": "[encoded data removed]"
    }
   },
   "cell_type": "markdown",
   "id": "be07148d",
   "metadata": {},
   "source": [
    "##### The following diagram is to explain the process of XGboost:\n",
    "\n",
    "![XGBoost.png](attachment:XGBoost.png)"
   ]
  },
  {
   "cell_type": "markdown",
   "id": "2f98017f",
   "metadata": {},
   "source": [
    "Random forest builds a multitude decision trees from different samples at training times, then takes the majority vote for the classification and in the case of regression it takes the average vote. (analyticsvidhya) A decision tree is really a question posed and then you have a choice of yes or no. Descision trees are sensitive to the training data, one change to the data, can change the leafs in the decision tree completely. Random forests will generally perform better than decision trees but their accuracy can be lower than gradient boosted trees.(Wikipedia)\n",
    "\n",
    "In the study, Random Forest will take more processing time, as the decision trees will have to be created so the algorithm will have to parse through the data. With Random Forest will reduce the ris of overfitting as there will be a robust number of decision trees, which will get the average, therefore lead to less errors.\n",
    "\n",
    "Random forest is used in Finance, as it allows businesses to spend less time on data management and pre-preprocessing tasks. Customers who have a high credit risks can be evaluated. (ibm)"
   ]
  },
  {
   "attachments": {
    "Random%20Forest%20Diagram.webp": {
     "image/webp": "[encoded data removed]"
    }
   },
   "cell_type": "markdown",
   "id": "d72cfc29",
   "metadata": {},
   "source": [
    "#### The following diagram explains how Random Forest works -\n",
    "\n",
    "![Random%20Forest%20Diagram.webp](attachment:Random%20Forest%20Diagram.webp)"
   ]
  },
  {
   "cell_type": "markdown",
   "id": "d1871d48",
   "metadata": {},
   "source": [
    "In the study, the data was cleansed with the help of Python where the investigators found there ws 16 records which needed to be dropped as they had missing data. Then they pinpointed 5 features as the best for the classification task. The features used were the following Uniformity of Cell Size, Uniformity of Cell Shape, Bland Chromatin, Normal Nucleoli, and \n",
    "Mitoses. In addition, they used the min max normalization to scale the features between 0 and 1 to remove the \n",
    "skewness that is associated with the dataset. In the experiment they split the data into the ratio of 80/20 where 80 was the training data and 20 was the test set. \n",
    "\n",
    "The classifiers performances were evaluated using metrics such as Accuracy, Precision, Recall, and F1- Score. Based off the results it was found that XGBoost had the highest classification accuracy with a score of 98.53% against Random Forest which had a score of 98.53%. So they tested based off the classifier performance metrisc and found again that XGBoost had the classification accuracy with 99.2% against Random Forest with a score of 98.05%. (An Evaluation of the WBDC)\n",
    "\n",
    "The main take away from the results of both Machine Learning approaches is that both had a high classification accuracy rate. The hardest part according to the authors was classifying the data. As I already explained about the Random Forest, it probably took longer and had less accuracy due the processing of the data."
   ]
  },
  {
   "cell_type": "markdown",
   "id": "bcb0182c",
   "metadata": {},
   "source": [
    "## 3. Classifier to be applied"
   ]
  },
  {
   "cell_type": "markdown",
   "id": "f012cfe1",
   "metadata": {},
   "source": [
    "Based on the size of the data input I am going to use K-nearest Neighbours Algorithm. It can be used for both classification and regression problems in data analysis. This is a supervised machine learning algorithm which relies on the input data which is labelled. With the Wisconsin Breast Original dataset, this has the attributes labelled and is not a very big dataset. The KNN Algorithm has been known to be very trustworthy and reliable. \n",
    "\n",
    "Based off the dataset I will be reviewing, I think these characteristics are best for the medical fields. With the dataset being defined already, the algorithm can make the assumptions more easily,\n",
    "\n",
    "For KNN classification, the point is classified based on the the neighbour types. The data point is assigned for the most frequent class to K nearest neighbours. For the KNN regression, it is the average of the K nearest neighbors. \n",
    "\n",
    "A classification problem has a discrete value as its output. For example you ask a question with yes or no as the possible answers. No in between, the answers are described as discrete. For regression this takes an example which is a row in a dataset. You can have for example height and weight, you then set an independent variable and you have a dependent variable. What KNN does in this case if they find similar input they will class it as neighbout rather than trying to understand the data structure like unsupervised learning. (towarddatascience-KNN)"
   ]
  },
  {
   "cell_type": "markdown",
   "id": "41ee96b2",
   "metadata": {},
   "source": [
    "## 4. Statistical Analysis"
   ]
  },
  {
   "cell_type": "code",
   "execution_count": 11,
   "id": "4a8cb32e",
   "metadata": {},
   "outputs": [
    {
     "data": {
      "text/plain": [
       "2    458\n",
       "4    241\n",
       "Name: Diagnosis, dtype: int64"
      ]
     },
     "execution_count": 11,
     "metadata": {},
     "output_type": "execute_result"
    }
   ],
   "source": [
    "# Check the frequency of class\n",
    "data['Diagnosis'].value_counts()"
   ]
  },
  {
   "cell_type": "code",
   "execution_count": 12,
   "id": "a4aebd6e",
   "metadata": {},
   "outputs": [
    {
     "data": {
      "text/plain": [
       "2    0.655222\n",
       "4    0.344778\n",
       "Name: Diagnosis, dtype: float64"
      ]
     },
     "execution_count": 12,
     "metadata": {},
     "output_type": "execute_result"
    }
   ],
   "source": [
    "# percentage of frequency distribution of class\n",
    "data['Diagnosis'].value_counts()/np.float64(len(data))"
   ]
  },
  {
   "cell_type": "code",
   "execution_count": 13,
   "id": "dc64405c",
   "metadata": {},
   "outputs": [
    {
     "data": {
      "image/png": "[encoded data removed]",
      "text/plain": [
       "<Figure size 2160x1800 with 10 Axes>"
      ]
     },
     "metadata": {
      "needs_background": "light"
     },
     "output_type": "display_data"
    }
   ],
   "source": [
    "# check the distributions of variables over histograms\n",
    "\n",
    "plt.rcParams['figure.figsize']=(30,25)\n",
    "\n",
    "#sharez and sharey to show the axises for the sub plots\n",
    "data.plot(kind='hist', bins=10, subplots=True, layout=(5,2), sharex=False, sharey=False)\n",
    "\n",
    "plt.show()"
   ]
  },
  {
   "cell_type": "markdown",
   "id": "2109fcc9",
   "metadata": {},
   "source": [
    "The majority of the values are clustered at the lower scores for the different attributes. Clump thickness has a density for the different values compared to the rest of the attributes."
   ]
  },
  {
   "cell_type": "code",
   "execution_count": 14,
   "id": "cb506335",
   "metadata": {},
   "outputs": [],
   "source": [
    "# get the correlation between the attributes\n",
    "corr = data.corr()"
   ]
  },
  {
   "cell_type": "code",
   "execution_count": 15,
   "id": "906faf0d",
   "metadata": {},
   "outputs": [
    {
     "data": {
      "text/plain": [
       "Diagnosis    1.000000\n",
       "BN           0.822696\n",
       "UCShape      0.818934\n",
       "UCSize       0.817904\n",
       "BC           0.756616\n",
       "CT           0.716001\n",
       "NN           0.712244\n",
       "MA           0.696800\n",
       "SECSize      0.682785\n",
       "Mitoses      0.423170\n",
       "Name: Diagnosis, dtype: float64"
      ]
     },
     "execution_count": 15,
     "metadata": {},
     "output_type": "execute_result"
    }
   ],
   "source": [
    "# For this data anlaysis the target variable is diagnosis \n",
    "# will get the correlation for diagnosis\n",
    "\n",
    "corr['Diagnosis'].sort_values(ascending=False)"
   ]
  },
  {
   "cell_type": "markdown",
   "id": "86c33ca5",
   "metadata": {},
   "source": [
    "The majority of the attributes are over 0.5 when the correlation is returned in relation to the diagnosis. The highest correlated is Bare Nuclei, so patients with a higher score in this attribute will have a higher probability of having the diagnosis of Malignent.\n",
    "\n",
    "This data is quite striking as there is very high correlation for Uniformity Cell Shap and Uniformity Cell Size. So it would make assume when a patient has a Malignent diagnosis the tumour will have high correlation for a few attributes.\n"
   ]
  },
  {
   "cell_type": "code",
   "execution_count": 25,
   "id": "edebd50a",
   "metadata": {},
   "outputs": [
    {
     "data": {
      "image/png": "[encoded data removed]",
      "text/plain": [
       "<Figure size 1080x720 with 2 Axes>"
      ]
     },
     "metadata": {
      "needs_background": "light"
     },
     "output_type": "display_data"
    }
   ],
   "source": [
    "# Visualise the data on a heatmap\n",
    "\n",
    "# set the size of the heatmap\n",
    "plt.figure(figsize=(15,10))\n",
    "# title of the heatmap\n",
    "plt.title('Correlation of Attributes with Diagnosis variable')\n",
    "# call the correlation, set value to True, set the rectangles. font and linecolour\n",
    "a = sns.heatmap(corr, square=True, annot=True, fmt='.2f', linecolor='white')\n",
    "# labels set for the axises\n",
    "a.set_xticklabels(a.get_xticklabels(), rotation=90)\n",
    "a.set_yticklabels(a.get_yticklabels(), rotation=30)\n",
    "# show the heatmap\n",
    "plt.show()"
   ]
  },
  {
   "cell_type": "markdown",
   "id": "d2fcde71",
   "metadata": {},
   "source": [
    "# 5. Machine Learning - KNN"
   ]
  },
  {
   "cell_type": "markdown",
   "id": "1185c4e0",
   "metadata": {},
   "source": [
    "### 5.1 Setting the target\n",
    "Setting the target variable is setting the variable that you want to understand from clearly. For this dataset it is clear from the start that Diagnosis is the target to find out is the Diagnosies Benign or Malignent. "
   ]
  },
  {
   "cell_type": "code",
   "execution_count": 27,
   "id": "afccf552",
   "metadata": {},
   "outputs": [],
   "source": [
    "# setting the target variable\n",
    "x = data.drop(['Diagnosis'], axis=1)\n",
    "\n",
    "y = data['Diagnosis']"
   ]
  },
  {
   "cell_type": "code",
   "execution_count": 32,
   "id": "dca017f6",
   "metadata": {},
   "outputs": [],
   "source": [
    "# splitting the target \n",
    "from sklearn.model_selection import train_test_split\n",
    "\n",
    "x_train, x_test, y_train, y_test = train_test_split(x, y, test_size = 0.2, random_state = 0)"
   ]
  },
  {
   "cell_type": "code",
   "execution_count": 33,
   "id": "30e5cdcb",
   "metadata": {},
   "outputs": [
    {
     "data": {
      "text/plain": [
       "((559, 9), (140, 9))"
      ]
     },
     "execution_count": 33,
     "metadata": {},
     "output_type": "execute_result"
    }
   ],
   "source": [
    "x_train.shape, x_test.shape"
   ]
  },
  {
   "cell_type": "code",
   "execution_count": null,
   "id": "f3091060",
   "metadata": {},
   "outputs": [],
   "source": []
  }
 ],
 "metadata": {
  "kernelspec": {
   "display_name": "Python 3 (ipykernel)",
   "language": "python",
   "name": "python3"
  },
  "language_info": {
   "codemirror_mode": {
    "name": "ipython",
    "version": 3
   },
   "file_extension": ".py",
   "mimetype": "text/x-python",
   "name": "python",
   "nbconvert_exporter": "python",
   "pygments_lexer": "ipython3",
   "version": "3.9.7"
  },
  "toc": {
   "base_numbering": 1,
   "nav_menu": {},
   "number_sections": false,
   "sideBar": true,
   "skip_h1_title": false,
   "title_cell": "Table of Contents",
   "title_sidebar": "Contents",
   "toc_cell": true,
   "toc_position": {
    "height": "calc(100% - 180px)",
    "left": "10px",
    "top": "150px",
    "width": "297.882px"
   },
   "toc_section_display": true,
   "toc_window_display": false
  }
 },
 "nbformat": 4,
 "nbformat_minor": 5
}
